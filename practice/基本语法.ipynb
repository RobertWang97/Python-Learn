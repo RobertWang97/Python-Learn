{
 "cells": [
  {
   "cell_type": "code",
   "execution_count": 6,
   "id": "000216c7",
   "metadata": {},
   "outputs": [
    {
     "name": "stdout",
     "output_type": "stream",
     "text": [
      "Adam\n",
      "Bart\n",
      "Lisa\n"
     ]
    }
   ],
   "source": [
    "class Person(object):\n",
    "    pass\n",
    "\n",
    "p1 = Person()\n",
    "p1.name = 'Bart'\n",
    "\n",
    "p2 = Person()\n",
    "p2.name = 'Adam'\n",
    "\n",
    "p3 = Person()\n",
    "p3.name = 'Lisa'\n",
    "\n",
    "L1 = [p1, p2, p3]\n",
    "L2 = sorted(L1,key=lambda person: person.name)\n",
    "\n",
    "print (L2[0].name)\n",
    "print (L2[1].name)\n",
    "print (L2[2].name)"
   ]
  },
  {
   "cell_type": "code",
   "execution_count": 9,
   "id": "1e8e30d2",
   "metadata": {},
   "outputs": [],
   "source": [
    "class MyClass():\n",
    "    def __init__(self,a,b,c,**kwargs):\n",
    "        self.a = a\n",
    "        self.b = b\n",
    "        self.c = c\n",
    "        self.d = kwargs['d']\n",
    "        \n",
    "m = MyClass(1,2,3,d=4)\n",
    "\n"
   ]
  },
  {
   "cell_type": "code",
   "execution_count": 10,
   "id": "0c056047",
   "metadata": {},
   "outputs": [
    {
     "data": {
      "text/plain": [
       "4"
      ]
     },
     "execution_count": 10,
     "metadata": {},
     "output_type": "execute_result"
    }
   ],
   "source": [
    "m.d"
   ]
  },
  {
   "cell_type": "code",
   "execution_count": 11,
   "id": "234a549e",
   "metadata": {},
   "outputs": [
    {
     "name": "stdout",
     "output_type": "stream",
     "text": [
      "aaaaaa aaaaaa\n"
     ]
    }
   ],
   "source": [
    "class MyClass2(object):\n",
    "    a = \"aaaaaa\"\n",
    "    def __init__(self,b):\n",
    "        self.b = b\n",
    "c = MyClass2(2)\n",
    "d = MyClass2(3)\n",
    "print(c.a, d.a)"
   ]
  },
  {
   "cell_type": "code",
   "execution_count": 12,
   "id": "e4f3185c",
   "metadata": {},
   "outputs": [
    {
     "name": "stdout",
     "output_type": "stream",
     "text": [
      "bbbbbbbbb aaaaaa\n"
     ]
    }
   ],
   "source": [
    "c.a = \"bbbbbbbbb\"\n",
    "print(c.a, d.a)"
   ]
  },
  {
   "cell_type": "code",
   "execution_count": 13,
   "id": "3595bdf1",
   "metadata": {},
   "outputs": [
    {
     "name": "stdout",
     "output_type": "stream",
     "text": [
      "2\n",
      "3\n",
      "4\n"
     ]
    }
   ],
   "source": [
    "class MyClass3(object):\n",
    "    n = 1\n",
    "    def __init__(self,b):\n",
    "        MyClass3.n = MyClass3.n + 1\n",
    "a = MyClass3(1)\n",
    "print(MyClass3.n)\n",
    "b = MyClass3(2)\n",
    "print(MyClass3.n)\n",
    "c = MyClass3(3)\n",
    "print(MyClass3.n)"
   ]
  },
  {
   "cell_type": "code",
   "execution_count": 17,
   "id": "d394f667",
   "metadata": {},
   "outputs": [
    {
     "name": "stdout",
     "output_type": "stream",
     "text": [
      "aaaaaa aaaaaa\n",
      "bbbbbbbbb bbbbbbbbb\n",
      "ccccccccc bbbbbbbbb\n",
      "bbbbbbbbb bbbbbbbbb\n"
     ]
    }
   ],
   "source": [
    "class MyClass4(object):\n",
    "    a = \"aaaaaa\"\n",
    "    def __init__(self,b):\n",
    "        self.b = b\n",
    "\n",
    "aa = MyClass4(1)\n",
    "bb = MyClass4(2)\n",
    "print(aa.a,bb.a)\n",
    "MyClass4.a = \"bbbbbbbbb\"\n",
    "print(aa.a,bb.a)\n",
    "aa.a = \"ccccccccc\"\n",
    "print(aa.a,bb.a)\n",
    "del aa.a\n",
    "print(aa.a,bb.a)"
   ]
  },
  {
   "cell_type": "code",
   "execution_count": 18,
   "id": "bd5fa923",
   "metadata": {},
   "outputs": [],
   "source": [
    "import types"
   ]
  },
  {
   "cell_type": "code",
   "execution_count": 19,
   "id": "3bdb493a",
   "metadata": {},
   "outputs": [
    {
     "name": "stdout",
     "output_type": "stream",
     "text": [
      "{'a': 1, 'b': 2, 'c': 3, 'd': 4}\n",
      "====================================================================================================\n",
      "{'a': 1, 'b': 2, 'c': 3, 'd': 4}\n"
     ]
    }
   ],
   "source": [
    "dict1 = {'a':1, 'b':2}\n",
    "dict2 = {'c':3, 'd': 4}\n",
    "combine_dict = {**dict1, **dict2}\n",
    "print(combine_dict)\n",
    "print(\"=\"*100)\n",
    "\n",
    "dict1.update(dict2)\n",
    "print(dict1)"
   ]
  },
  {
   "cell_type": "code",
   "execution_count": null,
   "id": "aa8236eb",
   "metadata": {},
   "outputs": [],
   "source": []
  }
 ],
 "metadata": {
  "kernelspec": {
   "display_name": "Python 3 (ipykernel)",
   "language": "python",
   "name": "python3"
  },
  "language_info": {
   "codemirror_mode": {
    "name": "ipython",
    "version": 3
   },
   "file_extension": ".py",
   "mimetype": "text/x-python",
   "name": "python",
   "nbconvert_exporter": "python",
   "pygments_lexer": "ipython3",
   "version": "3.9.12"
  }
 },
 "nbformat": 4,
 "nbformat_minor": 5
}
