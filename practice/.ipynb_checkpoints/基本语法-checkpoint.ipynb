{
 "cells": [
  {
   "cell_type": "code",
   "execution_count": 5,
   "id": "f58fc29c",
   "metadata": {},
   "outputs": [
    {
     "ename": "SyntaxError",
     "evalue": "invalid syntax (195285628.py, line 14)",
     "output_type": "error",
     "traceback": [
      "\u001b[1;36m  Input \u001b[1;32mIn [5]\u001b[1;36m\u001b[0m\n\u001b[1;33m    L2 = sorted(L1,key=lambda : .name)\u001b[0m\n\u001b[1;37m                                ^\u001b[0m\n\u001b[1;31mSyntaxError\u001b[0m\u001b[1;31m:\u001b[0m invalid syntax\n"
     ]
    }
   ],
   "source": [
    "class Person(object):\n",
    "    pass\n",
    "\n",
    "p1 = Person()\n",
    "p1.name = 'Bart'\n",
    "\n",
    "p2 = Person()\n",
    "p2.name = 'Adam'\n",
    "\n",
    "p3 = Person()\n",
    "p3.name = 'Lisa'\n",
    "\n",
    "L1 = [p1, p2, p3]\n",
    "L2 = sorted(L1,key=lambda person: person.name)\n",
    "\n",
    "print (L2[0].name)\n",
    "print (L2[1].name)\n",
    "print (L2[2].name)"
   ]
  },
  {
   "cell_type": "code",
   "execution_count": null,
   "id": "a823cbc2",
   "metadata": {},
   "outputs": [],
   "source": []
  }
 ],
 "metadata": {
  "kernelspec": {
   "display_name": "Python 3 (ipykernel)",
   "language": "python",
   "name": "python3"
  },
  "language_info": {
   "codemirror_mode": {
    "name": "ipython",
    "version": 3
   },
   "file_extension": ".py",
   "mimetype": "text/x-python",
   "name": "python",
   "nbconvert_exporter": "python",
   "pygments_lexer": "ipython3",
   "version": "3.9.12"
  }
 },
 "nbformat": 4,
 "nbformat_minor": 5
}
