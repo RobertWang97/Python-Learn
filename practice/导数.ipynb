{
 "cells": [
  {
   "cell_type": "markdown",
   "id": "464e5acb",
   "metadata": {},
   "source": [
    "4*x**5 + 3*x**3 -2*x**2 + 4*x +5 = 0"
   ]
  },
  {
   "cell_type": "code",
   "execution_count": null,
   "id": "b757aebc",
   "metadata": {},
   "outputs": [],
   "source": [
    "20*x**4 + 9*x**2 - 4*x + 4"
   ]
  },
  {
   "cell_type": "code",
   "execution_count": 9,
   "id": "0f852ded",
   "metadata": {},
   "outputs": [],
   "source": [
    "x0=5\n",
    "err = 1\n",
    "n=0"
   ]
  },
  {
   "cell_type": "code",
   "execution_count": 10,
   "id": "f61fdbcb",
   "metadata": {},
   "outputs": [
    {
     "name": "stdout",
     "output_type": "stream",
     "text": [
      "-0.6686321301461052\n"
     ]
    }
   ],
   "source": [
    "xn = x0 - (4*x0**5 + 3*x0**3 -2*x0**2 + 4*x0 +5)/(20*x0**4 + 9*x0**2 - 4*x0 + 4)\n",
    "\n",
    "while err>0.00000001:\n",
    "    xn = x0 - (4*x0**5 + 3*x0**3 -2*x0**2 + 4*x0 +5)/(20*x0**4 + 9*x0**2 - 4*x0 + 4)\n",
    "    err = abs(xn-x0)\n",
    "    x0=xn\n",
    "    n = n+ 1\n",
    "\n",
    "print(xn)\n"
   ]
  },
  {
   "cell_type": "code",
   "execution_count": 11,
   "id": "129f7b23",
   "metadata": {},
   "outputs": [],
   "source": [
    "z = -0.6686321301461052\n",
    "zz = 4*z**5 + 3*z**3 -2*z**2 + 4*z +5"
   ]
  },
  {
   "cell_type": "code",
   "execution_count": 12,
   "id": "8de9ac33",
   "metadata": {},
   "outputs": [
    {
     "data": {
      "text/plain": [
       "0.0"
      ]
     },
     "execution_count": 12,
     "metadata": {},
     "output_type": "execute_result"
    }
   ],
   "source": [
    "zz"
   ]
  },
  {
   "cell_type": "code",
   "execution_count": 13,
   "id": "61b0a735",
   "metadata": {},
   "outputs": [],
   "source": [
    "from sympy import *"
   ]
  },
  {
   "cell_type": "code",
   "execution_count": 14,
   "id": "31d2283f",
   "metadata": {},
   "outputs": [
    {
     "name": "stdout",
     "output_type": "stream",
     "text": [
      "[CRootOf(4*x**5 + 3*x**3 - 2*x**2 + 4*x + 5, 0), CRootOf(4*x**5 + 3*x**3 - 2*x**2 + 4*x + 5, 1), CRootOf(4*x**5 + 3*x**3 - 2*x**2 + 4*x + 5, 2), CRootOf(4*x**5 + 3*x**3 - 2*x**2 + 4*x + 5, 3), CRootOf(4*x**5 + 3*x**3 - 2*x**2 + 4*x + 5, 4)]\n"
     ]
    }
   ],
   "source": [
    "x = symbols('x')\n",
    "print(solve(4*x**5 + 3*x**3 -2*x**2 + 4*x +5))"
   ]
  },
  {
   "cell_type": "code",
   "execution_count": null,
   "id": "0b2bfbce",
   "metadata": {},
   "outputs": [],
   "source": []
  }
 ],
 "metadata": {
  "kernelspec": {
   "display_name": "Python 3 (ipykernel)",
   "language": "python",
   "name": "python3"
  },
  "language_info": {
   "codemirror_mode": {
    "name": "ipython",
    "version": 3
   },
   "file_extension": ".py",
   "mimetype": "text/x-python",
   "name": "python",
   "nbconvert_exporter": "python",
   "pygments_lexer": "ipython3",
   "version": "3.9.12"
  }
 },
 "nbformat": 4,
 "nbformat_minor": 5
}
