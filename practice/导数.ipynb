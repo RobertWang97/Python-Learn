{
 "cells": [
  {
   "cell_type": "markdown",
   "id": "637e96e9",
   "metadata": {},
   "source": [
    "3*x**3 - 5*x**2 + 2*x - 9 = 0"
   ]
  },
  {
   "cell_type": "markdown",
   "id": "7de5c382",
   "metadata": {},
   "source": [
    "9*x**2 - 10*x + 2"
   ]
  },
  {
   "cell_type": "code",
   "execution_count": 12,
   "id": "190acf27",
   "metadata": {},
   "outputs": [],
   "source": [
    "x0 = 1\n",
    "err = 1\n",
    "count = 0"
   ]
  },
  {
   "cell_type": "code",
   "execution_count": 13,
   "id": "eedcbf57",
   "metadata": {},
   "outputs": [],
   "source": [
    "while err>0.00000000000000000000000001:\n",
    "    xn = x0 - (3*x0**3 - 5*x0**2 + 2*x0 - 9)/(9*x0**2 - 10*x0 + 2)\n",
    "    err = abs(xn-x0)\n",
    "    x0 = xn\n",
    "    count = count + 1"
   ]
  },
  {
   "cell_type": "code",
   "execution_count": 14,
   "id": "ecc401af",
   "metadata": {},
   "outputs": [
    {
     "name": "stdout",
     "output_type": "stream",
     "text": [
      "2.0534655628897833 11\n"
     ]
    }
   ],
   "source": [
    "print(xn, count)"
   ]
  },
  {
   "cell_type": "code",
   "execution_count": 15,
   "id": "81c0b2d8",
   "metadata": {},
   "outputs": [
    {
     "data": {
      "text/plain": [
       "3.552713678800501e-15"
      ]
     },
     "execution_count": 15,
     "metadata": {},
     "output_type": "execute_result"
    }
   ],
   "source": [
    "z = 2.0534655628897833\n",
    "3*z**3 - 5*z**2 + 2*z - 9"
   ]
  },
  {
   "cell_type": "code",
   "execution_count": 17,
   "id": "47ff5ae3",
   "metadata": {},
   "outputs": [],
   "source": [
    "from sympy import *"
   ]
  },
  {
   "cell_type": "code",
   "execution_count": 18,
   "id": "0e939add",
   "metadata": {},
   "outputs": [],
   "source": [
    "x = symbols('x')\n",
    "y = solve(3*x**3 - 5*x**2 + 2*x - 9)"
   ]
  },
  {
   "cell_type": "code",
   "execution_count": 19,
   "id": "df3cf4af",
   "metadata": {},
   "outputs": [
    {
     "data": {
      "text/plain": [
       "[5/9 + (-1/2 - sqrt(3)*I/2)*(sqrt(57957)/162 + 2167/1458)**(1/3) + 7/(81*(-1/2 - sqrt(3)*I/2)*(sqrt(57957)/162 + 2167/1458)**(1/3)),\n",
       " 5/9 + 7/(81*(-1/2 + sqrt(3)*I/2)*(sqrt(57957)/162 + 2167/1458)**(1/3)) + (-1/2 + sqrt(3)*I/2)*(sqrt(57957)/162 + 2167/1458)**(1/3),\n",
       " 7/(81*(sqrt(57957)/162 + 2167/1458)**(1/3)) + 5/9 + (sqrt(57957)/162 + 2167/1458)**(1/3)]"
      ]
     },
     "execution_count": 19,
     "metadata": {},
     "output_type": "execute_result"
    }
   ],
   "source": [
    "y"
   ]
  },
  {
   "cell_type": "code",
   "execution_count": 20,
   "id": "a943a645",
   "metadata": {},
   "outputs": [
    {
     "data": {
      "text/latex": [
       "$\\displaystyle \\frac{0.075726152553049}{\\left(0.00415320719889248 \\sqrt{57957} + 1\\right)^{0.333333333333333}} + 0.555555555555556 + 1.1412141007148 \\left(0.00415320719889248 \\sqrt{57957} + 1\\right)^{0.333333333333333}$"
      ],
      "text/plain": [
       "0.075726152553049/(0.00415320719889248*sqrt(57957) + 1)**0.333333333333333 + 0.555555555555556 + 1.1412141007148*(0.00415320719889248*sqrt(57957) + 1)**0.333333333333333"
      ]
     },
     "execution_count": 20,
     "metadata": {},
     "output_type": "execute_result"
    }
   ],
   "source": [
    "m = 7/(81*(sqrt(57957)/162 + 2167/1458)**(1/3)) + 5/9 + (sqrt(57957)/162 + 2167/1458)**(1/3)\n",
    "m"
   ]
  },
  {
   "cell_type": "code",
   "execution_count": 22,
   "id": "1512c687",
   "metadata": {},
   "outputs": [
    {
     "data": {
      "text/latex": [
       "$\\displaystyle \\sqrt{57957}$"
      ],
      "text/plain": [
       "sqrt(57957)"
      ]
     },
     "execution_count": 22,
     "metadata": {},
     "output_type": "execute_result"
    }
   ],
   "source": [
    "sqrt(57957)"
   ]
  },
  {
   "cell_type": "code",
   "execution_count": 23,
   "id": "57172948",
   "metadata": {},
   "outputs": [
    {
     "data": {
      "text/plain": [
       "240.7426011324128"
      ]
     },
     "execution_count": 23,
     "metadata": {},
     "output_type": "execute_result"
    }
   ],
   "source": [
    "import math\n",
    "\n",
    "math.sqrt( 57957)"
   ]
  },
  {
   "cell_type": "code",
   "execution_count": 24,
   "id": "12215b27",
   "metadata": {},
   "outputs": [
    {
     "data": {
      "text/plain": [
       "2.053465562889783"
      ]
     },
     "execution_count": 24,
     "metadata": {},
     "output_type": "execute_result"
    }
   ],
   "source": [
    "n = 7/(81*(math.sqrt(57957)/162 + 2167/1458)**(1/3)) + 5/9 + (math.sqrt(57957)/162 + 2167/1458)**(1/3)\n",
    "n"
   ]
  },
  {
   "cell_type": "code",
   "execution_count": null,
   "id": "d00e3048",
   "metadata": {},
   "outputs": [],
   "source": [
    "2.0534655628897833"
   ]
  }
 ],
 "metadata": {
  "kernelspec": {
   "display_name": "Python 3 (ipykernel)",
   "language": "python",
   "name": "python3"
  },
  "language_info": {
   "codemirror_mode": {
    "name": "ipython",
    "version": 3
   },
   "file_extension": ".py",
   "mimetype": "text/x-python",
   "name": "python",
   "nbconvert_exporter": "python",
   "pygments_lexer": "ipython3",
   "version": "3.9.12"
  }
 },
 "nbformat": 4,
 "nbformat_minor": 5
}
