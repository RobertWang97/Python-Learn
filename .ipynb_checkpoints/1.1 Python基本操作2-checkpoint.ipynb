{
 "cells": [
  {
   "cell_type": "markdown",
   "metadata": {},
   "source": [
    "# python中判断类型\n",
    "函数isinstance()可以判断一个变量的类型，既可以用在Python内置的数据类型如str、list、dict，也可以用在我们自定义的类，它们本质上都是数据类型。\n",
    "这说明在一条继承链上，一个实例可以看成它本身的类型，也可以看成它父类的类型。"
   ]
  },
  {
   "cell_type": "code",
   "execution_count": 2,
   "metadata": {},
   "outputs": [
    {
     "name": "stdout",
     "output_type": "stream",
     "text": [
      "True\n",
      "False\n",
      "True\n",
      "True\n"
     ]
    }
   ],
   "source": [
    "class Person(object):\n",
    "\n",
    "    def __init__(self, name, gender):\n",
    "        self.name = name\n",
    "        self.gender = gender\n",
    "\n",
    "class Student(Person):\n",
    "\n",
    "    def __init__(self, name, gender, score):\n",
    "        super(Student, self).__init__(name, gender)\n",
    "        self.score = score\n",
    "\n",
    "class Teacher(Person):\n",
    "\n",
    "    def __init__(self, name, gender, course):\n",
    "        super(Teacher, self).__init__(name, gender)\n",
    "        self.course = course\n",
    "\n",
    "t = Teacher('Alice', 'Female', 'English')\n",
    "\n",
    "print (isinstance(t, Person))\n",
    "print (isinstance(t, Student))\n",
    "print (isinstance(t, Teacher))\n",
    "print (isinstance(t, object))"
   ]
  },
  {
   "cell_type": "markdown",
   "metadata": {},
   "source": [
    "# python中多态\n",
    "类具有继承关系，并且子类类型可以向上转型看做父类类型，如果我们从 Person 派生出 Student和Teacher ，并都写了一个 whoAmI() 方法："
   ]
  },
  {
   "cell_type": "markdown",
   "metadata": {},
   "source": [
    "# python中多重继承\n",
    "除了从一个父类继承外，Python允许从多个父类继承，称为多重继承。"
   ]
  },
  {
   "cell_type": "code",
   "execution_count": 10,
   "metadata": {},
   "outputs": [
    {
     "ename": "TypeError",
     "evalue": "__init__() missing 1 required positional argument: 'b'",
     "output_type": "error",
     "traceback": [
      "\u001b[1;31m---------------------------------------------------------------------------\u001b[0m",
      "\u001b[1;31mTypeError\u001b[0m                                 Traceback (most recent call last)",
      "\u001b[1;32m<ipython-input-10-30ba887bb343>\u001b[0m in \u001b[0;36m<module>\u001b[1;34m\u001b[0m\n\u001b[0;32m     20\u001b[0m \u001b[1;33m\u001b[0m\u001b[0m\n\u001b[0;32m     21\u001b[0m \u001b[1;33m\u001b[0m\u001b[0m\n\u001b[1;32m---> 22\u001b[1;33m \u001b[0md\u001b[0m \u001b[1;33m=\u001b[0m \u001b[0mD\u001b[0m\u001b[1;33m(\u001b[0m\u001b[1;36m3\u001b[0m\u001b[1;33m)\u001b[0m\u001b[1;33m\u001b[0m\u001b[1;33m\u001b[0m\u001b[0m\n\u001b[0m",
      "\u001b[1;32m<ipython-input-10-30ba887bb343>\u001b[0m in \u001b[0;36m__init__\u001b[1;34m(self, a)\u001b[0m\n\u001b[0;32m     16\u001b[0m \u001b[1;32mclass\u001b[0m \u001b[0mD\u001b[0m\u001b[1;33m(\u001b[0m\u001b[0mB\u001b[0m\u001b[1;33m,\u001b[0m \u001b[0mC\u001b[0m\u001b[1;33m)\u001b[0m\u001b[1;33m:\u001b[0m\u001b[1;33m\u001b[0m\u001b[1;33m\u001b[0m\u001b[0m\n\u001b[0;32m     17\u001b[0m     \u001b[1;32mdef\u001b[0m \u001b[0m__init__\u001b[0m\u001b[1;33m(\u001b[0m\u001b[0mself\u001b[0m\u001b[1;33m,\u001b[0m \u001b[0ma\u001b[0m\u001b[1;33m)\u001b[0m\u001b[1;33m:\u001b[0m\u001b[1;33m\u001b[0m\u001b[1;33m\u001b[0m\u001b[0m\n\u001b[1;32m---> 18\u001b[1;33m         \u001b[0msuper\u001b[0m\u001b[1;33m(\u001b[0m\u001b[0mD\u001b[0m\u001b[1;33m,\u001b[0m \u001b[0mself\u001b[0m\u001b[1;33m)\u001b[0m\u001b[1;33m.\u001b[0m\u001b[0m__init__\u001b[0m\u001b[1;33m(\u001b[0m\u001b[0ma\u001b[0m\u001b[1;33m)\u001b[0m\u001b[1;33m\u001b[0m\u001b[1;33m\u001b[0m\u001b[0m\n\u001b[0m\u001b[0;32m     19\u001b[0m         \u001b[0mprint\u001b[0m \u001b[1;33m(\u001b[0m\u001b[1;34m'init D...'\u001b[0m\u001b[1;33m)\u001b[0m\u001b[1;33m\u001b[0m\u001b[1;33m\u001b[0m\u001b[0m\n\u001b[0;32m     20\u001b[0m \u001b[1;33m\u001b[0m\u001b[0m\n",
      "\u001b[1;32m<ipython-input-10-30ba887bb343>\u001b[0m in \u001b[0;36m__init__\u001b[1;34m(self, a)\u001b[0m\n\u001b[0;32m      6\u001b[0m \u001b[1;32mclass\u001b[0m \u001b[0mB\u001b[0m\u001b[1;33m(\u001b[0m\u001b[0mA\u001b[0m\u001b[1;33m)\u001b[0m\u001b[1;33m:\u001b[0m\u001b[1;33m\u001b[0m\u001b[1;33m\u001b[0m\u001b[0m\n\u001b[0;32m      7\u001b[0m     \u001b[1;32mdef\u001b[0m \u001b[0m__init__\u001b[0m\u001b[1;33m(\u001b[0m\u001b[0mself\u001b[0m\u001b[1;33m,\u001b[0m \u001b[0ma\u001b[0m\u001b[1;33m)\u001b[0m\u001b[1;33m:\u001b[0m\u001b[1;33m\u001b[0m\u001b[1;33m\u001b[0m\u001b[0m\n\u001b[1;32m----> 8\u001b[1;33m         \u001b[0msuper\u001b[0m\u001b[1;33m(\u001b[0m\u001b[0mB\u001b[0m\u001b[1;33m,\u001b[0m \u001b[0mself\u001b[0m\u001b[1;33m)\u001b[0m\u001b[1;33m.\u001b[0m\u001b[0m__init__\u001b[0m\u001b[1;33m(\u001b[0m\u001b[0ma\u001b[0m\u001b[1;33m)\u001b[0m\u001b[1;33m\u001b[0m\u001b[1;33m\u001b[0m\u001b[0m\n\u001b[0m\u001b[0;32m      9\u001b[0m         \u001b[0mprint\u001b[0m \u001b[1;33m(\u001b[0m\u001b[1;34m'init B...'\u001b[0m\u001b[1;33m)\u001b[0m\u001b[1;33m\u001b[0m\u001b[1;33m\u001b[0m\u001b[0m\n\u001b[0;32m     10\u001b[0m \u001b[1;33m\u001b[0m\u001b[0m\n",
      "\u001b[1;31mTypeError\u001b[0m: __init__() missing 1 required positional argument: 'b'"
     ]
    }
   ],
   "source": [
    "class A(object):\n",
    "    def __init__(self, a):\n",
    "        print ('init A...')\n",
    "        self.a = a\n",
    "\n",
    "class B(A):\n",
    "    def __init__(self, a):\n",
    "        super(B, self).__init__(a)\n",
    "        print ('init B...')\n",
    "\n",
    "class C(A):\n",
    "    def __init__(self, a,b):\n",
    "        super(C, self).__init__(a,b)\n",
    "        print ('init C...')\n",
    "\n",
    "class D(B, C):\n",
    "    def __init__(self, a):\n",
    "        super(D, self).__init__(a)\n",
    "        print ('init D...')\n",
    "\n",
    "        \n",
    "d = D(3)"
   ]
  },
  {
   "cell_type": "markdown",
   "metadata": {},
   "source": [
    "# python中获取对象信息\n",
    "isinstance(), type() 函数获取变量的类型，它返回一个 Type 对象; 其次，可以用 dir() 函数获取变量的所有属性; \n",
    "dir()返回的属性是字符串列表，如果已知一个属性名称，要获取或者设置对象的属性，就需要用 getattr() 和 setattr( )函数了："
   ]
  },
  {
   "cell_type": "code",
   "execution_count": 13,
   "metadata": {},
   "outputs": [
    {
     "name": "stdout",
     "output_type": "stream",
     "text": [
      "18\n",
      "Python\n"
     ]
    }
   ],
   "source": [
    "class Person(object):\n",
    "\n",
    "    def __init__(self, name, gender, **kwargs):\n",
    "        self.name = name\n",
    "        self.gender = gender\n",
    "        for k, v in kwargs.items():\n",
    "            setattr(self, k, v)\n",
    "\n",
    "p = Person('Bob', 'Male', age=18, course='Python')\n",
    "print (p.age)\n",
    "print (p.course)"
   ]
  },
  {
   "cell_type": "markdown",
   "metadata": {},
   "source": [
    "# python中 __str__和__repr__\n",
    "如果要把一个类的实例变成 str，就需要实现特殊方法__str__()：\n",
    "\n",
    "class Person(object):\n",
    "    def __init__(self, name, gender):\n",
    "        self.name = name\n",
    "        self.gender = gender\n",
    "    def __str__(self):\n",
    "        return '(Person: %s, %s)' % (self.name, self.gender)\n",
    "现在，在交互式命令行下用 print 试试：\n",
    "\n",
    ">>> p = Person('Bob', 'male')\n",
    ">>> print p\n",
    "(Person: Bob, male)\n",
    "但是，如果直接敲变量 p：\n",
    "\n",
    ">>> p\n",
    "<main.Person object at 0x10c941890>\n",
    "似乎__str__() 不会被调用。\n",
    "\n",
    "因为 Python 定义了__str__()和__repr__()两种方法，__str__()用于显示给用户，而__repr__()用于显示给开发人员。\n",
    "\n",
    "有一个偷懒的定义__repr__的方法：\n",
    "\n",
    "class Person(object):\n",
    "    def __init__(self, name, gender):\n",
    "        self.name = name\n",
    "        self.gender = gender\n",
    "    def __str__(self):\n",
    "        return '(Person: %s, %s)' % (self.name, self.gender)\n",
    "    __repr__ = __str__\n",
    "任务\n",
    "请给Student 类定义__str__和__repr__方法，使得能打印出<Student: name, gender, score>：\n",
    "\n",
    "class Student(Person):\n",
    "    def __init__(self, name, gender, score):\n",
    "        super(Student, self).__init__(name, gender)\n",
    "        self.score = score"
   ]
  },
  {
   "cell_type": "markdown",
   "metadata": {},
   "source": [
    "# python中 __cmp__ 仅仅对应python2\n",
    "对 int、str 等内置数据类型排序时，Python的 sorted() 按照默认的比较函数 cmp 排序，但是，如果对一组 Student 类的实例排序时，就必须提供我们自己的特殊方法 __cmp__();"
   ]
  },
  {
   "cell_type": "code",
   "execution_count": 26,
   "metadata": {},
   "outputs": [
    {
     "name": "stdout",
     "output_type": "stream",
     "text": [
      "[(Alice: 99), (Tim: 99), (Bob: 88)]\n"
     ]
    }
   ],
   "source": [
    "import functools\n",
    "class Student(object):\n",
    "\n",
    "    def __init__(self, name, score):\n",
    "        self.name = name\n",
    "        self.score = score\n",
    "\n",
    "    def __str__(self):\n",
    "        return '(%s: %s)' % (self.name, self.score)\n",
    "\n",
    "    __repr__ = __str__\n",
    "\n",
    "#     def __cmp__(self, s):\n",
    "#         if self.score<s.score:\n",
    "#             return 1\n",
    "#         elif self.score>s.score:\n",
    "#             return -1\n",
    "#         else:\n",
    "#             if self.name>s.name:\n",
    "#                 return 1\n",
    "#             elif self.name<s.name:\n",
    "#                 return -1\n",
    "#             else:\n",
    "#                 return 0\n",
    "\n",
    "# L = [Student('Tim', 99), Student('Bob', 88), Student('Alice', 99)]\n",
    "# print (sorted(L))\n",
    "\n",
    "\n",
    "def my_cmp(self, s):\n",
    "    if self.score > s.score:\n",
    "        return -1\n",
    "    elif self.score < s.score:\n",
    "        return 1\n",
    "    else:\n",
    "        if self.name < s.name:\n",
    "            return -1\n",
    "        elif self.name > s.name:\n",
    "            return 1\n",
    "        else:\n",
    "            return 0\n",
    "\n",
    "\n",
    "L = [Student('Tim', 99), Student('Bob', 88), Student('Alice', 99)]\n",
    "print(sorted(L, key=functools.cmp_to_key(my_cmp)))\n",
    "\n",
    "# def my_cmp2(self, s):\n",
    "#     if self.score == s.score:\n",
    "#         return my_cmp2(self.name, s.name)\n",
    "#     return -my_cmp2(self.score, s.score)\n",
    "# print(sorted(L, key=functools.cmp_to_key(my_cmp2)))"
   ]
  },
  {
   "cell_type": "markdown",
   "metadata": {},
   "source": [
    "# python中 @property\n",
    "因为Python支持高阶函数，在函数式编程中我们介绍了装饰器函数，可以用装饰器函数把 get/set 方法“装饰”成属性调用："
   ]
  },
  {
   "cell_type": "code",
   "execution_count": 27,
   "metadata": {},
   "outputs": [
    {
     "name": "stdout",
     "output_type": "stream",
     "text": [
      "C\n",
      "B\n",
      "A\n"
     ]
    }
   ],
   "source": [
    "class Student(object):\n",
    "\n",
    "    def __init__(self, name, score):\n",
    "        self.name = name\n",
    "        self.__score = score\n",
    "\n",
    "    @property\n",
    "    def score(self):\n",
    "        return self.__score\n",
    "\n",
    "    @score.setter\n",
    "    def score(self, score):\n",
    "        if score < 0 or score > 100:\n",
    "            raise ValueError('invalid score')\n",
    "        self.__score = score\n",
    "\n",
    "    @property\n",
    "    def grade(self):\n",
    "        if self.__score>=80:\n",
    "            return 'A'\n",
    "        elif self.__score<60:\n",
    "            return 'C'\n",
    "        else: return 'B'\n",
    "\n",
    "s = Student('Bob', 59)\n",
    "print (s.grade)\n",
    "\n",
    "s.score = 60\n",
    "print (s.grade)\n",
    "\n",
    "s.score = 99\n",
    "print (s.grade)"
   ]
  },
  {
   "cell_type": "markdown",
   "metadata": {},
   "source": [
    "# python中 __slots__\n",
    "__slots__是指一个类允许的属性列表：<br/>\n",
    "__slots__的目的是限制当前类所能拥有的属性，如果不需要添加任意动态的属性，使用__slots__也能节省内存。"
   ]
  },
  {
   "cell_type": "code",
   "execution_count": 29,
   "metadata": {},
   "outputs": [
    {
     "name": "stdout",
     "output_type": "stream",
     "text": [
      "99\n",
      "Tim\n"
     ]
    }
   ],
   "source": [
    "class Person(object):\n",
    "    __slots__ = ('name','gender')\n",
    "    def __init__(self, name, gender):\n",
    "        self.name = name\n",
    "        self.gender = gender\n",
    "\n",
    "class Student(Person):\n",
    "    __slots__ = ('score',)\n",
    "    def __init__(self, name, gender, score):\n",
    "        super(Student, self).__init__(name, gender)\n",
    "        self.score = score\n",
    "\n",
    "s = Student('Bob', 'male', 59)\n",
    "s.name = 'Tim'\n",
    "s.score = 99\n",
    "print (s.score)\n",
    "print (s.name)"
   ]
  },
  {
   "cell_type": "code",
   "execution_count": 36,
   "metadata": {},
   "outputs": [
    {
     "name": "stdout",
     "output_type": "stream",
     "text": [
      "14\n"
     ]
    }
   ],
   "source": [
    "def gcd(a, b):\n",
    "    if b == 0:\n",
    "        return a\n",
    "    return gcd(b, a % b)\n",
    "\n",
    "print(gcd(28,14))"
   ]
  },
  {
   "cell_type": "code",
   "execution_count": null,
   "metadata": {},
   "outputs": [],
   "source": []
  }
 ],
 "metadata": {
  "kernelspec": {
   "display_name": "Python 3 (ipykernel)",
   "language": "python",
   "name": "python3"
  },
  "language_info": {
   "codemirror_mode": {
    "name": "ipython",
    "version": 3
   },
   "file_extension": ".py",
   "mimetype": "text/x-python",
   "name": "python",
   "nbconvert_exporter": "python",
   "pygments_lexer": "ipython3",
   "version": "3.9.12"
  }
 },
 "nbformat": 4,
 "nbformat_minor": 4
}
