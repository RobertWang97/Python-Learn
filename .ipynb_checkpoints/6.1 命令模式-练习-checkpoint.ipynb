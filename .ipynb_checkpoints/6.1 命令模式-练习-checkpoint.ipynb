{
 "cells": [
  {
   "cell_type": "code",
   "execution_count": 3,
   "metadata": {},
   "outputs": [],
   "source": [
    "from abc import ABCMeta, abstractmethod"
   ]
  },
  {
   "cell_type": "code",
   "execution_count": 26,
   "metadata": {},
   "outputs": [],
   "source": [
    "class ICommand(metaclass=ABCMeta):\n",
    "    def __init__(self,receiver):\n",
    "        pass\n",
    "    @abstractmethod\n",
    "    def execute(self):\n",
    "        pass\n",
    "\n",
    "    \n",
    "class Command1(ICommand):\n",
    "    def __init__(self, receiver):\n",
    "        super().__init__(receiver)\n",
    "        self.receiver = receiver\n",
    "    def execute(self):\n",
    "        self.receiver.action1()\n",
    "\n",
    "class Command2(ICommand):\n",
    "    def __init__(self, receiver):\n",
    "        super().__init__(receiver)\n",
    "        self.receiver = receiver\n",
    "    def execute(self):\n",
    "        self.receiver.action2()\n",
    "        \n",
    "class Rec:\n",
    "    def action1(self):\n",
    "        print('hello1')\n",
    "    def action2(self):\n",
    "        print('hello2')  \n",
    "\n",
    "class Invoker:\n",
    "    def command(self, cmd):\n",
    "        self.cmd = cmd\n",
    "    def execute(self, receiver)\n",
    "#         self.receiver = receiver\n",
    "        self.cmd.execute()\n",
    "    "
   ]
  },
  {
   "cell_type": "code",
   "execution_count": 27,
   "metadata": {},
   "outputs": [
    {
     "name": "stdout",
     "output_type": "stream",
     "text": [
      "hello1\n"
     ]
    }
   ],
   "source": [
    "a = Rec()\n",
    "b = Command1(a)\n",
    "b.execute()"
   ]
  },
  {
   "cell_type": "code",
   "execution_count": null,
   "metadata": {},
   "outputs": [],
   "source": []
  }
 ],
 "metadata": {
  "kernelspec": {
   "display_name": "Python 3",
   "language": "python",
   "name": "python3"
  },
  "language_info": {
   "codemirror_mode": {
    "name": "ipython",
    "version": 3
   },
   "file_extension": ".py",
   "mimetype": "text/x-python",
   "name": "python",
   "nbconvert_exporter": "python",
   "pygments_lexer": "ipython3",
   "version": "3.6.8"
  }
 },
 "nbformat": 4,
 "nbformat_minor": 4
}
