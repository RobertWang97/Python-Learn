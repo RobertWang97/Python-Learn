{
 "cells": [
  {
   "cell_type": "markdown",
   "metadata": {},
   "source": [
    "# 字符串切片"
   ]
  },
  {
   "cell_type": "markdown",
   "metadata": {},
   "source": [
    "b = a[i:j:s]表示：s表示步进，缺省为1.\n",
    "所以a[i:j:1]相当于a[i:j]\n",
    "当s<0时，i缺省时，默认为-1. j缺省时，默认为-len(a)-1\n",
    "所以a[::-1]相当于 a[-1:-len(a)-1:-1]，也就是从最后一个元素到第一个元素复制一遍，即倒序。"
   ]
  },
  {
   "cell_type": "code",
   "execution_count": 1,
   "metadata": {},
   "outputs": [
    {
     "name": "stdout",
     "output_type": "stream",
     "text": [
      "hlowrd\n",
      "dlrow olleh\n",
      "ell\n",
      "hell\n",
      "hl\n"
     ]
    }
   ],
   "source": [
    "str0 = \"hello world\"\n",
    "print (str0[::2]) \n",
    "print (str0[::-1]) \n",
    "print(str0[1:4:1])\n",
    "print(str0[0:4])\n",
    "print(str0[0:4:2])"
   ]
  },
  {
   "cell_type": "markdown",
   "metadata": {},
   "source": [
    "# 单词大小写"
   ]
  },
  {
   "cell_type": "markdown",
   "metadata": {},
   "source": [
    "面对一个字符串，想将里面的单词首字母大写，只需要调用title函数，而所有的字母大写只需要调用upper函数，字符串首字母大写则是调用capitalize函数即可。"
   ]
  },
  {
   "cell_type": "code",
   "execution_count": 2,
   "metadata": {},
   "outputs": [
    {
     "name": "stdout",
     "output_type": "stream",
     "text": [
      "I Love Python!\n",
      "I LOVE PYTHON!\n",
      "i love python!\n"
     ]
    }
   ],
   "source": [
    "str2 = \"i love python!\"\n",
    "print(str2.title()) #首字母变大写\n",
    "print(str2.upper())\n",
    "print(str2.lower())"
   ]
  },
  {
   "cell_type": "markdown",
   "metadata": {},
   "source": [
    "# 字符串拆分"
   ]
  },
  {
   "cell_type": "code",
   "execution_count": 3,
   "metadata": {},
   "outputs": [
    {
     "name": "stdout",
     "output_type": "stream",
     "text": [
      "['I', 'love', 'python']\n",
      "['I', 'love', 'python']\n",
      "['I', 'love', 'python']\n",
      "I love python\n",
      "<class 'str'>\n"
     ]
    }
   ],
   "source": [
    "str3 = \"I love python\"\n",
    "str4 = \"I/love/python\"\n",
    "str5 = \"    I love python   \"\n",
    "print(str3.split()) #默认是空格进行拆分\n",
    "print(str4.split('/'))\n",
    "print(str5.split())\n",
    "print(str5.strip())\n",
    "print(type(str5.strip()))"
   ]
  },
  {
   "cell_type": "markdown",
   "metadata": {},
   "source": [
    "# 字符串合并"
   ]
  },
  {
   "cell_type": "code",
   "execution_count": 4,
   "metadata": {},
   "outputs": [
    {
     "name": "stdout",
     "output_type": "stream",
     "text": [
      "I love python\n",
      "I love python\n"
     ]
    }
   ],
   "source": [
    "list1 = ['I','love','python']\n",
    "print(' '.join(list1))\n",
    "\n",
    "import re\n",
    "str6 = \"I /love . python\"\n",
    "print(' '.join(re.split('\\W+',str6)))"
   ]
  },
  {
   "cell_type": "markdown",
   "metadata": {},
   "source": [
    "# 寻找字符串中唯一的元素"
   ]
  },
  {
   "cell_type": "markdown",
   "metadata": {},
   "source": [
    "集合(set)是一个无序的不重复元素序列\n",
    "list分割为可重复元素序列"
   ]
  },
  {
   "cell_type": "code",
   "execution_count": 5,
   "metadata": {},
   "outputs": [
    {
     "name": "stdout",
     "output_type": "stream",
     "text": [
      "{'w', 't', 'f', 'e', 'r', 'g'}\n",
      "['w', 'w', 'w', 'e', 'e', 'e', 'r', 'f', 't', 't', 't', 'g']\n",
      "wtferg\n",
      "wwweeerftttg\n",
      "[1, 2, 3, 4, 5, 6, 7, 9]\n"
     ]
    }
   ],
   "source": [
    "str7= \"wwweeerftttg\"\n",
    "print(set(str7))\n",
    "print(list(str7))\n",
    "print(''.join(set(str7)))\n",
    "print(''.join(list(str7)))\\\n",
    "\n",
    "list2 = [3,5,3,6,2,7,3,7,9,5,4,1]\n",
    "print(list(set(list2)))"
   ]
  },
  {
   "cell_type": "markdown",
   "metadata": {},
   "source": [
    "# 将元素进行重复"
   ]
  },
  {
   "cell_type": "markdown",
   "metadata": {},
   "source": [
    "将元素进行重复，可以采用“乘法”的形势，直接乘以原来的元素，也可以采用“加法”的形式，更方便理解。"
   ]
  },
  {
   "cell_type": "code",
   "execution_count": 6,
   "metadata": {},
   "outputs": [
    {
     "name": "stdout",
     "output_type": "stream",
     "text": [
      "pythonpythonpython\n",
      "[1, 2, 3, 1, 2, 3, 1, 2, 3]\n",
      "[3, 6, 9]\n",
      "0\n",
      "1\n",
      "2\n",
      "pythonpythonpython\n",
      "[1, 2, 3, 1, 2, 3, 1, 2, 3]\n"
     ]
    }
   ],
   "source": [
    "str8 = \"python\"\n",
    "list3 = [1,2,3]\n",
    "str8_1 = \"\"\n",
    "list3_1 = []\n",
    "print(str8 * 3)\n",
    "print (list3 *3)\n",
    "print([ a * 3 for a in list3])\n",
    "for i in range(3):\n",
    "    print(i)\n",
    "    str8_1 += str8\n",
    "    list3_1.extend(list3)\n",
    "print(str8_1)\n",
    "print(list3_1)\n"
   ]
  },
  {
   "cell_type": "markdown",
   "metadata": {},
   "source": [
    "# 基于列表的扩展"
   ]
  },
  {
   "cell_type": "code",
   "execution_count": 7,
   "metadata": {},
   "outputs": [
    {
     "name": "stdout",
     "output_type": "stream",
     "text": [
      "[4, 4, 4, 4]\n",
      "[1, 2, 3, 4, 5, 6, 4, 3, 1, 1, 44, [34, 56, 9]]\n"
     ]
    }
   ],
   "source": [
    "list4 = [2,2,2,2]\n",
    "print([2*x for x in list4])\n",
    "\n",
    "list5 = [[1,2,3],[4,5,6],[4,3],[1],[1,44,[34,56,9]]]\n",
    "print([i for k in list5 for i in k])\n",
    "# print([i for k in list5 for i in k])"
   ]
  },
  {
   "cell_type": "markdown",
   "metadata": {},
   "source": [
    "# 将列表展开"
   ]
  },
  {
   "cell_type": "code",
   "execution_count": 8,
   "metadata": {},
   "outputs": [
    {
     "name": "stdout",
     "output_type": "stream",
     "text": [
      "[21, 43, 2, 2, 4, 5, 6, 9, 7, 5, 8, 9, 10, 12]\n",
      "[21, 43, 2, 2, 4, 5, 6, 9, 7, 5, 8, 9, 10, 12]\n"
     ]
    }
   ],
   "source": [
    "from iteration_utilities import  deepflatten\n",
    "list6 = [[21,43,2],[2,4,[5],[6,9,7]],[5,8,[9,[10,12]]]]\n",
    "print (list(deepflatten(list6)))\n",
    "\n",
    "def flatten(lst):\n",
    "    res = []\n",
    "    for i in lst:\n",
    "        if isinstance(i, list):\n",
    "            res.extend(flatten(i))\n",
    "        else:\n",
    "            res.append(i)\n",
    "    return res\n",
    "\n",
    "print (flatten(list6))"
   ]
  },
  {
   "cell_type": "markdown",
   "metadata": {},
   "source": [
    "# 排序 https://www.cnblogs.com/1a2a/p/11016366.html"
   ]
  },
  {
   "cell_type": "code",
   "execution_count": 3,
   "metadata": {},
   "outputs": [
    {
     "name": "stdout",
     "output_type": "stream",
     "text": [
      "Adam\n",
      "Bart\n",
      "Lisa\n"
     ]
    }
   ],
   "source": [
    "class Person(object):\n",
    "    pass\n",
    "\n",
    "p1 = Person()\n",
    "p1.name = 'Bart'\n",
    "\n",
    "p2 = Person()\n",
    "p2.name = 'Adam'\n",
    "\n",
    "p3 = Person()\n",
    "p3.name = 'Lisa'\n",
    "\n",
    "L1 = [p1, p2, p3]\n",
    "L2 = sorted(L1,key=lambda person: person.name)\n",
    "\n",
    "print (L2[0].name)\n",
    "print (L2[1].name)\n",
    "print (L2[2].name)"
   ]
  },
  {
   "cell_type": "markdown",
   "metadata": {},
   "source": [
    "# kwargs使用"
   ]
  },
  {
   "cell_type": "code",
   "execution_count": 4,
   "metadata": {},
   "outputs": [
    {
     "name": "stdout",
     "output_type": "stream",
     "text": [
      "Xiao Ming\n",
      "Student\n"
     ]
    }
   ],
   "source": [
    "class Person(object):\n",
    "    def __init__(self, name, gender, birthday, **kwargs):\n",
    "        self.name = name\n",
    "        self.gender = gender\n",
    "        self.birthday = birthday\n",
    "        self.job = kwargs['job']\n",
    "\n",
    "xiaoming = Person('Xiao Ming', 'Male', '1990-1-1', job='Student')\n",
    "\n",
    "print (xiaoming.name)\n",
    "print (xiaoming.job)"
   ]
  },
  {
   "cell_type": "markdown",
   "metadata": {},
   "source": [
    "# 由于Python是动态语言，类属性也是可以动态添加和修改的："
   ]
  },
  {
   "cell_type": "code",
   "execution_count": 5,
   "metadata": {},
   "outputs": [
    {
     "name": "stdout",
     "output_type": "stream",
     "text": [
      "Earth\n",
      "Earth\n",
      "China\n",
      "China\n"
     ]
    }
   ],
   "source": [
    "class Person(object):\n",
    "    address = 'Earth'\n",
    "    def __init__(self, name):\n",
    "        self.name = name\n",
    "\n",
    "p1 = Person('Bob')\n",
    "p2 = Person('Alice')\n",
    "print (p1.address)\n",
    "print (p2.address)\n",
    "\n",
    "\n",
    "Person.address = 'China'\n",
    "print (p1.address)\n",
    "print (p2.address)"
   ]
  },
  {
   "cell_type": "markdown",
   "metadata": {},
   "source": [
    "# 类是模板，而实例则是根据类创建的对象。"
   ]
  },
  {
   "cell_type": "code",
   "execution_count": 6,
   "metadata": {},
   "outputs": [
    {
     "name": "stdout",
     "output_type": "stream",
     "text": [
      "1\n",
      "2\n",
      "3\n"
     ]
    }
   ],
   "source": [
    "class Person(object):\n",
    "    count = 0 \n",
    "    def __init__(self, name):\n",
    "        Person.count = Person.count + 1\n",
    "\n",
    "p1 = Person('Bob')\n",
    "print (Person.count)\n",
    "\n",
    "p2 = Person('Alice')\n",
    "print (Person.count)\n",
    "\n",
    "p3 = Person('Tim')\n",
    "print (Person.count)"
   ]
  },
  {
   "cell_type": "markdown",
   "metadata": {},
   "source": [
    "# python中类属性和实例属性名字冲突怎么办"
   ]
  },
  {
   "cell_type": "code",
   "execution_count": 7,
   "metadata": {},
   "outputs": [
    {
     "name": "stdout",
     "output_type": "stream",
     "text": [
      "Person.address = Earth\n",
      "p1.address = China\n",
      "Person.address = Earth\n",
      "p2.address = Earth\n",
      "Earth\n"
     ]
    }
   ],
   "source": [
    "class Person(object):\n",
    "    address = 'Earth'\n",
    "    def __init__(self, name):\n",
    "        self.name = name\n",
    "\n",
    "p1 = Person('Bob')\n",
    "p2 = Person('Alice')\n",
    "\n",
    "print ('Person.address = ' + Person.address)\n",
    "\n",
    "p1.address = 'China'\n",
    "print ('p1.address = ' + p1.address)\n",
    "\n",
    "print ('Person.address = ' + Person.address)\n",
    "print( 'p2.address = ' + p2.address)\n",
    "\n",
    "\n",
    "del p1.address\n",
    "print (p1.address)"
   ]
  },
  {
   "cell_type": "markdown",
   "metadata": {},
   "source": [
    "# python中方法也是属性"
   ]
  },
  {
   "cell_type": "code",
   "execution_count": 12,
   "metadata": {},
   "outputs": [
    {
     "name": "stdout",
     "output_type": "stream",
     "text": [
      "A\n"
     ]
    },
    {
     "ename": "AttributeError",
     "evalue": "'Person' object has no attribute 'get_grade'",
     "output_type": "error",
     "traceback": [
      "\u001b[1;31m---------------------------------------------------------------------------\u001b[0m",
      "\u001b[1;31mAttributeError\u001b[0m                            Traceback (most recent call last)",
      "\u001b[1;32m<ipython-input-12-9ece40cd0295>\u001b[0m in \u001b[0;36m<module>\u001b[1;34m\u001b[0m\n\u001b[0;32m     17\u001b[0m \u001b[1;31m# => A\u001b[0m\u001b[1;33m\u001b[0m\u001b[1;33m\u001b[0m\u001b[1;33m\u001b[0m\u001b[0m\n\u001b[0;32m     18\u001b[0m \u001b[0mp2\u001b[0m \u001b[1;33m=\u001b[0m \u001b[0mPerson\u001b[0m\u001b[1;33m(\u001b[0m\u001b[1;34m'Alice'\u001b[0m\u001b[1;33m,\u001b[0m \u001b[1;36m65\u001b[0m\u001b[1;33m)\u001b[0m\u001b[1;33m\u001b[0m\u001b[1;33m\u001b[0m\u001b[0m\n\u001b[1;32m---> 19\u001b[1;33m \u001b[0mprint\u001b[0m \u001b[1;33m(\u001b[0m\u001b[0mp2\u001b[0m\u001b[1;33m.\u001b[0m\u001b[0mget_grade\u001b[0m\u001b[1;33m(\u001b[0m\u001b[1;33m)\u001b[0m\u001b[1;33m)\u001b[0m\u001b[1;33m\u001b[0m\u001b[1;33m\u001b[0m\u001b[0m\n\u001b[0m\u001b[0;32m     20\u001b[0m \u001b[1;31m# ERROR: AttributeError: 'Person' object has no attribute 'get_grade'\u001b[0m\u001b[1;33m\u001b[0m\u001b[1;33m\u001b[0m\u001b[1;33m\u001b[0m\u001b[0m\n\u001b[0;32m     21\u001b[0m \u001b[1;31m# 因为p2实例并没有绑定get_grade\u001b[0m\u001b[1;33m\u001b[0m\u001b[1;33m\u001b[0m\u001b[1;33m\u001b[0m\u001b[0m\n",
      "\u001b[1;31mAttributeError\u001b[0m: 'Person' object has no attribute 'get_grade'"
     ]
    }
   ],
   "source": [
    "import types\n",
    "def fn_get_grade(self):\n",
    "    if self.score >= 80:\n",
    "        return 'A'\n",
    "    if self.score >= 60:\n",
    "        return 'B'\n",
    "    return 'C'\n",
    "\n",
    "class Person(object):\n",
    "    def __init__(self, name, score):\n",
    "        self.name = name\n",
    "        self.score = score\n",
    "\n",
    "p1 = Person('Bob', 90)\n",
    "p1.get_grade = types.MethodType(fn_get_grade, p1)\n",
    "print (p1.get_grade())\n",
    "# => A\n",
    "p2 = Person('Alice', 65)\n",
    "print (p2.get_grade())\n",
    "# ERROR: AttributeError: 'Person' object has no attribute 'get_grade'\n",
    "# 因为p2实例并没有绑定get_grade"
   ]
  },
  {
   "cell_type": "markdown",
   "metadata": {},
   "source": [
    "# python中定义类方法"
   ]
  },
  {
   "cell_type": "code",
   "execution_count": 16,
   "metadata": {},
   "outputs": [
    {
     "name": "stdout",
     "output_type": "stream",
     "text": [
      "0\n",
      "1\n",
      "1\n",
      "2\n",
      "2\n"
     ]
    }
   ],
   "source": [
    "class Person(object):\n",
    "    count = 0\n",
    "    @classmethod\n",
    "    def how_many(cls):\n",
    "        return cls.count\n",
    "    def __init__(self, name):\n",
    "        self.name = name\n",
    "        Person.count = Person.count + 1\n",
    "\n",
    "print (Person.how_many())\n",
    "p1 = Person('Bob')\n",
    "print (Person.how_many())\n",
    "print(p1.how_many())\n",
    "p2 = Person('JJ')\n",
    "print (Person.how_many())\n",
    "print(p2.how_many())"
   ]
  },
  {
   "cell_type": "markdown",
   "metadata": {},
   "source": [
    "# Python中append和extend的区别"
   ]
  },
  {
   "cell_type": "markdown",
   "metadata": {},
   "source": [
    "list.append(object) 向列表中添加一个对象object\n",
    "list.extend(sequence) 把一个序列seq的内容添加到列表中"
   ]
  },
  {
   "cell_type": "code",
   "execution_count": 9,
   "metadata": {},
   "outputs": [
    {
     "name": "stdout",
     "output_type": "stream",
     "text": [
      "['compact disc', '8-track tape', 'long playing record', ['DVD Audio disc', 'Super Audio CD']]\n"
     ]
    }
   ],
   "source": [
    "music_media = ['compact disc', '8-track tape', 'long playing record']\n",
    "new_media = ['DVD Audio disc', 'Super Audio CD']\n",
    "music_media.append(new_media)\n",
    "print (music_media)"
   ]
  },
  {
   "cell_type": "markdown",
   "metadata": {},
   "source": [
    "使用append的时候，是将new_media看作一个对象，整体打包添加到music_media对象中。\n",
    "使用extend的时候，是将new_media看作一个序列，将这个序列和music_media序列合并，并放在其后面。"
   ]
  },
  {
   "cell_type": "code",
   "execution_count": 10,
   "metadata": {},
   "outputs": [
    {
     "name": "stdout",
     "output_type": "stream",
     "text": [
      "['compact disc', '8-track tape', 'long playing record', 'DVD Audio disc', 'Super Audio CD']\n"
     ]
    }
   ],
   "source": [
    "music_media = ['compact disc', '8-track tape', 'long playing record']\n",
    "new_media = ['DVD Audio disc', 'Super Audio CD']\n",
    "music_media.extend(new_media)\n",
    "print (music_media)"
   ]
  },
  {
   "cell_type": "markdown",
   "metadata": {},
   "source": [
    "# 二值交换"
   ]
  },
  {
   "cell_type": "code",
   "execution_count": 11,
   "metadata": {},
   "outputs": [
    {
     "name": "stdout",
     "output_type": "stream",
     "text": [
      "2 1\n",
      "1 2\n"
     ]
    }
   ],
   "source": [
    "a = 1\n",
    "b = 2\n",
    "a, b = b, a\n",
    "print(a, b)\n",
    "\n",
    "c = a + b\n",
    "a = c - a\n",
    "b = c - a\n",
    "print(a, b)"
   ]
  },
  {
   "cell_type": "markdown",
   "metadata": {},
   "source": [
    "# 统计列表中元素的频率"
   ]
  },
  {
   "cell_type": "code",
   "execution_count": 12,
   "metadata": {},
   "outputs": [
    {
     "name": "stdout",
     "output_type": "stream",
     "text": [
      "Counter({'o': 3, 't': 2, 'h': 2, 'P': 1, 'p': 1, 'Y': 1, 'y': 1})\n",
      "1\n",
      "[('o', 3)]\n",
      "{'P': 1, 'p': 1, 'Y': 1, 'y': 1, 't': 2, 'h': 2, 'o': 3}\n",
      "o\n"
     ]
    }
   ],
   "source": [
    "from collections import Counter\n",
    "list7 = ['P','p','Y','y','t','t','h','o','o','o','h']\n",
    "count = Counter(list7)\n",
    "print(count)\n",
    "print(count['P'])\n",
    "print(count.most_common(1))\n",
    "\n",
    "dict1 = {}\n",
    "for i in list7:\n",
    "    if i in dict1:\n",
    "        dict1[i] += 1\n",
    "    else:\n",
    "        dict1[i] = 1\n",
    "print(dict1)\n",
    "print(max(dict1, key=lambda x:dict1[x]))\n",
    "    "
   ]
  },
  {
   "cell_type": "markdown",
   "metadata": {},
   "source": [
    "# 判断字符串所含元素是否相同"
   ]
  },
  {
   "cell_type": "code",
   "execution_count": 13,
   "metadata": {},
   "outputs": [
    {
     "name": "stdout",
     "output_type": "stream",
     "text": [
      "元素相同\n",
      "Counter({'q': 1, 'w': 1, 'e': 1, 'r': 1, 't': 1})\n",
      "Counter({'q': 1, 'e': 1, 'r': 1, 't': 1, 'w': 1})\n"
     ]
    }
   ],
   "source": [
    "str1_1, str1_2, str1_3 = \"qwert\",\"qertw\",\"reqtw\"\n",
    "cn_str1_1, cn_str1_2, cn_str1_3 = Counter(str1_1), Counter(str1_2), Counter(str1_3)\n",
    "if(cn_str1_1==cn_str1_2 and cn_str1_2==cn_str1_3):\n",
    "    print(\"元素相同\")\n",
    "print(Counter(str1_1))\n",
    "print(Counter(str1_2))"
   ]
  },
  {
   "cell_type": "markdown",
   "metadata": {},
   "source": [
    "# 将数字字符串转化为数字列表"
   ]
  },
  {
   "cell_type": "code",
   "execution_count": 1,
   "metadata": {},
   "outputs": [
    {
     "name": "stdout",
     "output_type": "stream",
     "text": [
      "<map object at 0x00000272238619E8>\n",
      "[2, 3, 4, 5, 3, 4, 3]\n",
      "['2', '3', '4', '5', '3', '4', '3']\n",
      "[2, 3, 4, 5, 3, 4, 3]\n"
     ]
    }
   ],
   "source": [
    "str9 = \"2345343\"\n",
    "list9_1 = list(map(int,str9))\n",
    "print(map(int, str9))\n",
    "print(list9_1)\n",
    "print(list(str9))\n",
    "\n",
    "list9_2 = [int(i) for i in str9]\n",
    "print(list9_2)"
   ]
  },
  {
   "cell_type": "markdown",
   "metadata": {},
   "source": [
    "# 使用try-except-finally模块"
   ]
  },
  {
   "cell_type": "code",
   "execution_count": 15,
   "metadata": {},
   "outputs": [
    {
     "name": "stdout",
     "output_type": "stream",
     "text": [
      "a 不是一个列表\n",
      "结束\n",
      "====================================================================================================\n",
      "[4]\n",
      "结束\n",
      "\n"
     ]
    }
   ],
   "source": [
    "a = 1\n",
    "b = 4\n",
    "try:\n",
    "    a.append(b)\n",
    "except AttributeError  as e:\n",
    "    print(\"a 不是一个列表\")\n",
    "else:\n",
    "    print(a)\n",
    "finally:\n",
    "    print(\"结束\")\n",
    "\n",
    "print(\"=\"*100)\n",
    "\n",
    "a = []\n",
    "try:\n",
    "    a.append(b)\n",
    "except AttributeError  as e:\n",
    "    print(\"a 不是一个列表\")\n",
    "else:\n",
    "    print(a)\n",
    "finally:\n",
    "    print(\"结束\")\n",
    "\n",
    "print()"
   ]
  },
  {
   "cell_type": "markdown",
   "metadata": {},
   "source": [
    "# 使用enumerate 函数来获取索引-数值对"
   ]
  },
  {
   "cell_type": "code",
   "execution_count": 16,
   "metadata": {},
   "outputs": [
    {
     "name": "stdout",
     "output_type": "stream",
     "text": [
      "0 P\n",
      "1 y\n",
      "2 t\n",
      "3 h\n",
      "4 o\n",
      "5 n\n",
      "====================================================================================================\n",
      "0 1\n",
      "1 2\n",
      "2 3\n",
      "3 4\n",
      "4 5\n"
     ]
    }
   ],
   "source": [
    "str10 = \"Python\"\n",
    "list10 = [1,2,3,4,5]\n",
    "for i,j in enumerate(str10):\n",
    "    print(i,j)\n",
    "    \n",
    "print(\"=\"*100)\n",
    "\n",
    "for i,j in enumerate(list10):\n",
    "    print(i,j)"
   ]
  },
  {
   "cell_type": "markdown",
   "metadata": {},
   "source": [
    "# 代码执行消耗时间"
   ]
  },
  {
   "cell_type": "code",
   "execution_count": 17,
   "metadata": {},
   "outputs": [
    {
     "name": "stdout",
     "output_type": "stream",
     "text": [
      "7.640097618103027\n",
      "共消耗时间： 7.640097618103027 s\n"
     ]
    }
   ],
   "source": [
    "import time\n",
    "start = time.time()\n",
    "\n",
    "num = 0\n",
    "for i in range(100000000):\n",
    "    num = i\n",
    "\n",
    "z = time.time()-start\n",
    "print(z)\n",
    "print(\"共消耗时间： \" + str(z),\"s\")"
   ]
  },
  {
   "cell_type": "markdown",
   "metadata": {},
   "source": [
    "# 检查对象的内存占用情况"
   ]
  },
  {
   "cell_type": "code",
   "execution_count": 18,
   "metadata": {},
   "outputs": [
    {
     "name": "stdout",
     "output_type": "stream",
     "text": [
      "50\n",
      "54\n",
      "28\n"
     ]
    }
   ],
   "source": [
    "import sys\n",
    "str11 = \"a\"\n",
    "str11_1 = \"aaddf\"\n",
    "num14 = 32\n",
    "print(sys.getsizeof(str11))\n",
    "print(sys.getsizeof(str11_1))\n",
    "print(sys.getsizeof(num14))"
   ]
  },
  {
   "cell_type": "markdown",
   "metadata": {},
   "source": [
    "# 字典的合并"
   ]
  },
  {
   "cell_type": "code",
   "execution_count": 20,
   "metadata": {},
   "outputs": [
    {
     "name": "stdout",
     "output_type": "stream",
     "text": [
      "{'a': 1, 'b': 2, 'c': 3, 'd': 4}\n",
      "====================================================================================================\n",
      "{'a': 1, 'b': 2, 'c': 3, 'd': 4}\n"
     ]
    }
   ],
   "source": [
    "dict1 = {'a':1, 'b':2}\n",
    "dict2 = {'c':3, 'd': 4}\n",
    "combine_dict = {**dict1, **dict2}\n",
    "print(combine_dict)\n",
    "print(\"=\"*100)\n",
    "\n",
    "dict1.update(dict2)\n",
    "print(dict1)"
   ]
  },
  {
   "cell_type": "markdown",
   "metadata": {},
   "source": [
    "# 随机采样"
   ]
  },
  {
   "cell_type": "code",
   "execution_count": 21,
   "metadata": {},
   "outputs": [
    {
     "name": "stdout",
     "output_type": "stream",
     "text": [
      "[5, 2, 4]\n",
      "['w', 'e', 'e']\n"
     ]
    }
   ],
   "source": [
    "import random\n",
    "str12 = \"wewewe\"\n",
    "list12 = [1,2,3,4,5,6]\n",
    "n_samples = 3\n",
    "print(random.sample(list12,n_samples))\n",
    "print(random.sample(str12,n_samples))"
   ]
  },
  {
   "cell_type": "markdown",
   "metadata": {},
   "source": [
    "# 检查唯一性"
   ]
  },
  {
   "cell_type": "code",
   "execution_count": 23,
   "metadata": {},
   "outputs": [
    {
     "name": "stdout",
     "output_type": "stream",
     "text": [
      "是唯一的\n",
      "不是唯一的\n",
      "是唯一的\n",
      "不是唯一的\n"
     ]
    }
   ],
   "source": [
    "list13 = [1,2,3,4,5,6]\n",
    "list13_1 = [1,2,2,4,5,6]\n",
    "\n",
    "def ifUnqiue(seq):\n",
    "    if(len(seq)==len(set(seq))):\n",
    "        print(\"是唯一的\")\n",
    "    else:\n",
    "        print(\"不是唯一的\")\n",
    "\n",
    "ifUnqiue(list13)\n",
    "ifUnqiue(list13_1)\n",
    "\n",
    "str13 = \"qwertyui\"\n",
    "str13_1 = \"eweertwee\"\n",
    "\n",
    "ifUnqiue(str13)\n",
    "ifUnqiue(str13_1)"
   ]
  },
  {
   "cell_type": "code",
   "execution_count": null,
   "metadata": {},
   "outputs": [],
   "source": []
  },
  {
   "cell_type": "code",
   "execution_count": null,
   "metadata": {},
   "outputs": [],
   "source": []
  },
  {
   "cell_type": "code",
   "execution_count": null,
   "metadata": {},
   "outputs": [],
   "source": []
  },
  {
   "cell_type": "code",
   "execution_count": null,
   "metadata": {},
   "outputs": [],
   "source": []
  },
  {
   "cell_type": "code",
   "execution_count": null,
   "metadata": {},
   "outputs": [],
   "source": []
  }
 ],
 "metadata": {
  "kernelspec": {
   "display_name": "Python 3 (ipykernel)",
   "language": "python",
   "name": "python3"
  },
  "language_info": {
   "codemirror_mode": {
    "name": "ipython",
    "version": 3
   },
   "file_extension": ".py",
   "mimetype": "text/x-python",
   "name": "python",
   "nbconvert_exporter": "python",
   "pygments_lexer": "ipython3",
   "version": "3.9.12"
  }
 },
 "nbformat": 4,
 "nbformat_minor": 4
}
