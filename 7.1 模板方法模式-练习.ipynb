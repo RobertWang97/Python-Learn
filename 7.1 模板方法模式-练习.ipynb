{
 "cells": [
  {
   "cell_type": "code",
   "execution_count": 2,
   "metadata": {},
   "outputs": [],
   "source": [
    "from abc import ABCMeta, abstractmethod"
   ]
  },
  {
   "cell_type": "code",
   "execution_count": 4,
   "metadata": {},
   "outputs": [],
   "source": [
    "class AbstractClass(metaclass=ABCMeta):\n",
    "    @abstractmethod\n",
    "    def action1(self):\n",
    "        pass\n",
    "    \n",
    "    @abstractmethod\n",
    "    def action2(self):\n",
    "        pass\n",
    "    \n",
    "    @abstractmethod\n",
    "    def action3(self):\n",
    "        pass\n",
    "    \n",
    "    def run():\n",
    "        action1()\n",
    "        action2()\n",
    "        action3()\n",
    "    "
   ]
  },
  {
   "cell_type": "code",
   "execution_count": 5,
   "metadata": {},
   "outputs": [],
   "source": [
    "class ConcreteClass(AbstractClass):\n",
    "        \n",
    "    def action1(self):\n",
    "        print(\"run 1\")\n",
    "    \n",
    "    \n",
    "    def action2(self):\n",
    "        print(\"run 2\")\n",
    "    \n",
    "    \n",
    "    def action3(self):\n",
    "        print(\"run 3\")"
   ]
  },
  {
   "cell_type": "code",
   "execution_count": null,
   "metadata": {},
   "outputs": [],
   "source": [
    "a = ConcreteClass(\n",
    "a)"
   ]
  }
 ],
 "metadata": {
  "kernelspec": {
   "display_name": "Python 3",
   "language": "python",
   "name": "python3"
  },
  "language_info": {
   "codemirror_mode": {
    "name": "ipython",
    "version": 3
   },
   "file_extension": ".py",
   "mimetype": "text/x-python",
   "name": "python",
   "nbconvert_exporter": "python",
   "pygments_lexer": "ipython3",
   "version": "3.6.8"
  }
 },
 "nbformat": 4,
 "nbformat_minor": 4
}
