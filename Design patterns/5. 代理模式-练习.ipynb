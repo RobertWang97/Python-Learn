{
 "cells": [
  {
   "cell_type": "code",
   "execution_count": 12,
   "id": "e78c059e",
   "metadata": {},
   "outputs": [],
   "source": [
    "from abc import ABCMeta"
   ]
  },
  {
   "cell_type": "code",
   "execution_count": 13,
   "id": "58c200c3",
   "metadata": {},
   "outputs": [],
   "source": [
    "class A(metaclass=ABCMeta):\n",
    "    def __init__(self):\n",
    "        pass\n",
    "    def lock(self):\n",
    "        pass\n",
    "    def unlock(self):\n",
    "        pass"
   ]
  },
  {
   "cell_type": "code",
   "execution_count": 14,
   "id": "0327bdcf",
   "metadata": {},
   "outputs": [],
   "source": [
    "class AA(A):\n",
    "    def __init__(self):\n",
    "        self.key = False\n",
    "    def lock(self):\n",
    "        self.key = True\n",
    "    def unlock(self):\n",
    "        self.key = False"
   ]
  },
  {
   "cell_type": "code",
   "execution_count": 15,
   "id": "5dc806e4",
   "metadata": {},
   "outputs": [],
   "source": [
    "class Agent(A):\n",
    "    aa = \"\"\n",
    "    def __init__(self):\n",
    "        self.aa = AA()\n",
    "    def lock(self):\n",
    "        self.aa.lock()\n",
    "    def unlock(self):\n",
    "        self.aa.unlock() "
   ]
  },
  {
   "cell_type": "code",
   "execution_count": 16,
   "id": "4250cc10",
   "metadata": {},
   "outputs": [
    {
     "name": "stdout",
     "output_type": "stream",
     "text": [
      "False\n",
      "True\n"
     ]
    }
   ],
   "source": [
    "agent = Agent()\n",
    "print(agent.aa.key)\n",
    "agent.lock()\n",
    "print(agent.aa.key)"
   ]
  },
  {
   "cell_type": "code",
   "execution_count": null,
   "id": "8e3e7cc2",
   "metadata": {},
   "outputs": [],
   "source": []
  }
 ],
 "metadata": {
  "kernelspec": {
   "display_name": "Python 3 (ipykernel)",
   "language": "python",
   "name": "python3"
  },
  "language_info": {
   "codemirror_mode": {
    "name": "ipython",
    "version": 3
   },
   "file_extension": ".py",
   "mimetype": "text/x-python",
   "name": "python",
   "nbconvert_exporter": "python",
   "pygments_lexer": "ipython3",
   "version": "3.9.12"
  }
 },
 "nbformat": 4,
 "nbformat_minor": 5
}
