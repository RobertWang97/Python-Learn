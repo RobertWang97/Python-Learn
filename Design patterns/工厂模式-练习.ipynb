{
 "cells": [
  {
   "cell_type": "code",
   "execution_count": 16,
   "id": "fa939d3b",
   "metadata": {},
   "outputs": [],
   "source": [
    "from abc import ABCMeta"
   ]
  },
  {
   "cell_type": "code",
   "execution_count": 17,
   "id": "cfdacc2b",
   "metadata": {},
   "outputs": [],
   "source": [
    "class ProductA(metaclass=ABCMeta):\n",
    "    def create(self):\n",
    "        pass\n",
    "    \n",
    "    def make(self):\n",
    "        pass\n",
    "    \n",
    "class ProductB(metaclass=ABCMeta):\n",
    "    def create(self):\n",
    "        pass\n",
    "    \n",
    "    def make(self):\n",
    "        pass"
   ]
  },
  {
   "cell_type": "code",
   "execution_count": 18,
   "id": "071eb582",
   "metadata": {},
   "outputs": [],
   "source": [
    "class ProductAA(ProductA):\n",
    "    def create(self):\n",
    "        print('Creating Product A!')\n",
    "\n",
    "class ProductBB(ProductB):\n",
    "    def make(self,ProductA):\n",
    "        print('Making Product B!')\n",
    "\n",
    "class ProductCC(ProductB):\n",
    "    def create(self,ProductA):\n",
    "        print('Making Product B!')"
   ]
  },
  {
   "cell_type": "code",
   "execution_count": 19,
   "id": "ca993f14",
   "metadata": {},
   "outputs": [],
   "source": [
    "class Factory(metaclass=ABCMeta):\n",
    "    def runA(self):\n",
    "        pass\n",
    "    \n",
    "    def runB(self):\n",
    "        pass"
   ]
  },
  {
   "cell_type": "code",
   "execution_count": 20,
   "id": "d05dcc90",
   "metadata": {},
   "outputs": [],
   "source": [
    "class FactoryA(Factory):\n",
    "    def runA(self):\n",
    "        return ProductAA()\n",
    "    \n",
    "    def runB(self):\n",
    "        return ProductBB()"
   ]
  },
  {
   "cell_type": "code",
   "execution_count": 21,
   "id": "1b1fdc74",
   "metadata": {},
   "outputs": [],
   "source": [
    "class FactoryB(Factory):\n",
    "    def runA(self):\n",
    "        return ProductAA()\n",
    "    \n",
    "    def runB(self):\n",
    "        return ProductCC()"
   ]
  },
  {
   "cell_type": "code",
   "execution_count": 23,
   "id": "80ee1ebf",
   "metadata": {},
   "outputs": [
    {
     "name": "stdout",
     "output_type": "stream",
     "text": [
      "Creating Product A!\n",
      "Making Product B!\n"
     ]
    }
   ],
   "source": [
    "FA = FactoryA()\n",
    "a = FA.runA()\n",
    "a.create()\n",
    "FA.runB().make(a)"
   ]
  },
  {
   "cell_type": "code",
   "execution_count": null,
   "id": "b6467a70",
   "metadata": {},
   "outputs": [],
   "source": []
  }
 ],
 "metadata": {
  "kernelspec": {
   "display_name": "Python 3 (ipykernel)",
   "language": "python",
   "name": "python3"
  },
  "language_info": {
   "codemirror_mode": {
    "name": "ipython",
    "version": 3
   },
   "file_extension": ".py",
   "mimetype": "text/x-python",
   "name": "python",
   "nbconvert_exporter": "python",
   "pygments_lexer": "ipython3",
   "version": "3.9.12"
  }
 },
 "nbformat": 4,
 "nbformat_minor": 5
}
