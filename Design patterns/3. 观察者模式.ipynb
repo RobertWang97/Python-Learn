{
 "cells": [
  {
   "cell_type": "code",
   "execution_count": 7,
   "metadata": {},
   "outputs": [
    {
     "name": "stdout",
     "output_type": "stream",
     "text": [
      "Observer1  :: Got  ('dfadfasdf', 'ddddddd')  From  <__main__.Subject object at 0x00000136717D1320>\n",
      "Observer2  :: Got  ('dfadfasdf', 'ddddddd')  From  <__main__.Subject object at 0x00000136717D1320>\n"
     ]
    }
   ],
   "source": [
    "class Subject:\n",
    "    def __init__(self):\n",
    "        self.__observers = []\n",
    "        \n",
    "    def register(self, observer):\n",
    "        self.__observers.append(observer)\n",
    "        \n",
    "    def notifyAll(self, *args, **kwargs):\n",
    "        for observer in self.__observers:\n",
    "            observer.notify(self, *args, **kwargs)\n",
    "            \n",
    "class Observer1:\n",
    "    def __init__(self, subject):\n",
    "        subject.register(self)\n",
    "        \n",
    "    def notify(self, subject, *args):\n",
    "        print(type(self).__name__, ' :: Got ', args, ' From ', subject)\n",
    "\n",
    "class Observer2:\n",
    "    def __init__(self, subject):\n",
    "        subject.register(self)\n",
    "        \n",
    "    def notify(self, subject, *args):\n",
    "        print(type(self).__name__, ' :: Got ', args, ' From ', subject)\n",
    "        \n",
    "subject = Subject()\n",
    "o1 = Observer1(subject)\n",
    "o2 = Observer2(subject)\n",
    "subject.notifyAll('dfadfasdf','ddddddd')"
   ]
  },
  {
   "cell_type": "markdown",
   "metadata": {},
   "source": [
    "# 多态性是指具有不同功能的函数可以使用相同的函数名，这样就可以用一个函数名调用不同内容的函数。\n",
    "# 在面向对象方法中一般是这样表述多态性：向不同的对象发送同一条消息，不同的对象在接收时会产生不同的行为（即方法）\n",
    "# 。也就是说，每个对象可以用自己的方式去响应共同的消息。所谓消息，就是调用函数，不同的行为就是指不同的实现，即执行不同的函数。\n",
    "# 上述代码子类是约定俗称的实现这个方法，加上@abc.abstractmethod装饰器后严格控制子类必须实现这个方法"
   ]
  },
  {
   "cell_type": "code",
   "execution_count": 7,
   "metadata": {},
   "outputs": [],
   "source": [
    "from abc import ABCMeta, abstractmethod\n",
    "class Subscriber(metaclass=ABCMeta):\n",
    "    @abstractmethod\n",
    "    def update(self):\n",
    "        pass"
   ]
  },
  {
   "cell_type": "code",
   "execution_count": 8,
   "metadata": {},
   "outputs": [],
   "source": [
    "class S1(Subscriber):\n",
    "    def __init__(self):\n",
    "        pass"
   ]
  },
  {
   "cell_type": "code",
   "execution_count": 9,
   "metadata": {},
   "outputs": [
    {
     "ename": "TypeError",
     "evalue": "Can't instantiate abstract class S1 with abstract methods update",
     "output_type": "error",
     "traceback": [
      "\u001b[1;31m---------------------------------------------------------------------------\u001b[0m",
      "\u001b[1;31mTypeError\u001b[0m                                 Traceback (most recent call last)",
      "\u001b[1;32m<ipython-input-9-6981f31b31f4>\u001b[0m in \u001b[0;36m<module>\u001b[1;34m\u001b[0m\n\u001b[1;32m----> 1\u001b[1;33m \u001b[0ms11\u001b[0m \u001b[1;33m=\u001b[0m \u001b[0mS1\u001b[0m\u001b[1;33m(\u001b[0m\u001b[1;33m)\u001b[0m\u001b[1;33m\u001b[0m\u001b[1;33m\u001b[0m\u001b[0m\n\u001b[0m",
      "\u001b[1;31mTypeError\u001b[0m: Can't instantiate abstract class S1 with abstract methods update"
     ]
    }
   ],
   "source": [
    "s11 = S1()"
   ]
  },
  {
   "cell_type": "code",
   "execution_count": null,
   "metadata": {},
   "outputs": [],
   "source": []
  }
 ],
 "metadata": {
  "kernelspec": {
   "display_name": "Python 3",
   "language": "python",
   "name": "python3"
  },
  "language_info": {
   "codemirror_mode": {
    "name": "ipython",
    "version": 3
   },
   "file_extension": ".py",
   "mimetype": "text/x-python",
   "name": "python",
   "nbconvert_exporter": "python",
   "pygments_lexer": "ipython3",
   "version": "3.6.8"
  }
 },
 "nbformat": 4,
 "nbformat_minor": 4
}
