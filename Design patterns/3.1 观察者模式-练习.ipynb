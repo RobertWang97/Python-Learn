{
 "cells": [
  {
   "cell_type": "code",
   "execution_count": 2,
   "metadata": {},
   "outputs": [
    {
     "name": "stdout",
     "output_type": "stream",
     "text": [
      "hello world<__main__.Observer object at 0x000001F88F57A128>\n",
      "hello world<__main__.Observer object at 0x000001F88F57A208>\n",
      "hello world<__main__.Observer object at 0x000001F88F57A978>\n"
     ]
    }
   ],
   "source": [
    "class Subject:\n",
    "    observers = []\n",
    "    def register(self, observer):\n",
    "        self.observers.append(observer)\n",
    "    \n",
    "    def remove(self, observer):\n",
    "        self.observers.remove(observer)\n",
    "        \n",
    "    def notify(self, message):\n",
    "        for observer in self.observers:\n",
    "            observer.getmessage(message)\n",
    "\n",
    "class Observer:\n",
    "    def __init__(self, subject):\n",
    "        subject.register(self)\n",
    "    \n",
    "    def removeme(self, subject):\n",
    "        subject.remove(self)\n",
    "    \n",
    "    def getmessage(self, message):\n",
    "        print(message + str(self))\n",
    "\n",
    "s = Subject()\n",
    "\n",
    "o1 = Observer(s)\n",
    "o2 = Observer(s)\n",
    "o3 = Observer(s)\n",
    "o4 = Observer(s)\n",
    "s.remove(o3)\n",
    "s.notify(\"hello world\")"
   ]
  },
  {
   "cell_type": "code",
   "execution_count": null,
   "metadata": {},
   "outputs": [],
   "source": []
  }
 ],
 "metadata": {
  "kernelspec": {
   "display_name": "Python 3",
   "language": "python",
   "name": "python3"
  },
  "language_info": {
   "codemirror_mode": {
    "name": "ipython",
    "version": 3
   },
   "file_extension": ".py",
   "mimetype": "text/x-python",
   "name": "python",
   "nbconvert_exporter": "python",
   "pygments_lexer": "ipython3",
   "version": "3.6.8"
  }
 },
 "nbformat": 4,
 "nbformat_minor": 4
}
