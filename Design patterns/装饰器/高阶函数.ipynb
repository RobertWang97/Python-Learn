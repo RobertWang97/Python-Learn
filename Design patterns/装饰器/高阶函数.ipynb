{
 "cells": [
  {
   "cell_type": "code",
   "execution_count": 2,
   "metadata": {},
   "outputs": [],
   "source": [
    "def f1(x):\n",
    "    return x*2\n",
    "\n",
    "def new_fn(f):\n",
    "    def fn(x):\n",
    "        print ('call ' + f.__name__ + '()')\n",
    "        return f(x)\n",
    "    return fn"
   ]
  },
  {
   "cell_type": "code",
   "execution_count": 3,
   "metadata": {},
   "outputs": [
    {
     "data": {
      "text/plain": [
       "<function __main__.new_fn.<locals>.fn(x)>"
      ]
     },
     "execution_count": 3,
     "metadata": {},
     "output_type": "execute_result"
    }
   ],
   "source": [
    "new_fn(f1(3))"
   ]
  },
  {
   "cell_type": "code",
   "execution_count": 7,
   "metadata": {},
   "outputs": [
    {
     "name": "stdout",
     "output_type": "stream",
     "text": [
      "call f1()\n",
      "10\n"
     ]
    }
   ],
   "source": [
    "g1 = new_fn(f1)\n",
    "print(g1(5))"
   ]
  },
  {
   "cell_type": "code",
   "execution_count": 8,
   "metadata": {},
   "outputs": [
    {
     "name": "stdout",
     "output_type": "stream",
     "text": [
      "call f1()\n",
      "10\n"
     ]
    }
   ],
   "source": [
    "f1 = new_fn(f1)\n",
    "print(f1(5))"
   ]
  },
  {
   "cell_type": "code",
   "execution_count": 9,
   "metadata": {},
   "outputs": [
    {
     "name": "stdout",
     "output_type": "stream",
     "text": [
      "call f2()\n"
     ]
    },
    {
     "data": {
      "text/plain": [
       "10"
      ]
     },
     "execution_count": 9,
     "metadata": {},
     "output_type": "execute_result"
    }
   ],
   "source": [
    "def new_fn2(f):\n",
    "    def fn(x):\n",
    "        print ('call ' + f.__name__ + '()')\n",
    "        return f(x)\n",
    "    return fn\n",
    "\n",
    "@new_fn2\n",
    "def f2(x):\n",
    "    return x*2\n",
    "\n",
    "f2(5)"
   ]
  },
  {
   "cell_type": "code",
   "execution_count": 13,
   "metadata": {},
   "outputs": [
    {
     "name": "stdout",
     "output_type": "stream",
     "text": [
      "wrapper\n",
      "None\n"
     ]
    }
   ],
   "source": [
    "def log(f):\n",
    "    def wrapper(*args, **kw):\n",
    "        print ('call...')\n",
    "        return f(*args, **kw)\n",
    "    return wrapper\n",
    "@log\n",
    "def f2(x):\n",
    "    pass\n",
    "print (f2.__name__)\n",
    "print (f2.__doc__)"
   ]
  },
  {
   "cell_type": "code",
   "execution_count": null,
   "metadata": {},
   "outputs": [],
   "source": []
  }
 ],
 "metadata": {
  "kernelspec": {
   "display_name": "Python 3",
   "language": "python",
   "name": "python3"
  },
  "language_info": {
   "codemirror_mode": {
    "name": "ipython",
    "version": 3
   },
   "file_extension": ".py",
   "mimetype": "text/x-python",
   "name": "python",
   "nbconvert_exporter": "python",
   "pygments_lexer": "ipython3",
   "version": "3.6.8"
  }
 },
 "nbformat": 4,
 "nbformat_minor": 4
}
