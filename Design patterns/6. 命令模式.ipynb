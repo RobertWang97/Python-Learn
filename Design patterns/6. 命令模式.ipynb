{
 "cells": [
  {
   "attachments": {
    "%E5%9B%BE%E7%89%87.png": {
     "image/png": "[encoded data removed]"
    }
   },
   "cell_type": "markdown",
   "metadata": {},
   "source": [
    "<h1>一、概念</h1>\n",
    "\n",
    "    命令模式：将“请求”封装成对象，以便使用不同的请求、队列或者日志来参数化其他对象。命令模式也支持可撤销的操作。\n",
    "    角色：\n",
    "     1、命令(Command)：为所有命令声明了一个接口。调用命令对象的 execute()方法，就可以让接收者进行相关的操作。这个接口也具备一个 undo() 方法。\n",
    "     2、具体命令(ConcreteCommand)：实现命令接口，定义了动作和接收者之间的绑定关系。调用者只要调用 execute() 就可以发出请求，然后由 ConcreteCommand 调用接收者的一个或多个动作。\n",
    "     3、请求者(Invoker)：持有一个命令对象，有一个行动方法，在某个时间点调用命令对象的 execute() 方法，将请求付诸实行。\n",
    "     4、接收者(Receiver)：接收者知道如何进行必要的动作，实现这个请求。任何类都可以当接收者。\n",
    "     5、客户端(Client)：创建一个具体命令(ConcreteCommand)对象并确定其接收者，包括把其他角色串连在一起。\n",
    "\n",
    "![%E5%9B%BE%E7%89%87.png](attachment:%E5%9B%BE%E7%89%87.png)"
   ]
  },
  {
   "cell_type": "code",
   "execution_count": 4,
   "metadata": {},
   "outputs": [
    {
     "name": "stdout",
     "output_type": "stream",
     "text": [
      "copying binaries --  python3.6.gzip  to  /usr/bin/\n",
      "No operation\n"
     ]
    }
   ],
   "source": [
    "class Wizard():\n",
    "    def __init__(self,src,rootdir):\n",
    "        \n",
    "        self.choices = []\n",
    "        self.rootdir = rootdir\n",
    "        self.src = src\n",
    "    \n",
    "    def preferences(self, command):\n",
    "        self.choices.append(command)\n",
    "    \n",
    "    def execute(self):\n",
    "        for choice in self.choices:\n",
    "            if list(choice.values())[0]:\n",
    "                print(\"copying binaries -- \", self.src, \" to \", self.rootdir)\n",
    "            else:\n",
    "                print(\"No operation\")\n",
    "                \n",
    "                \n",
    "wizard = Wizard('python3.6.gzip', '/usr/bin/')\n",
    "wizard.preferences({'python':True})\n",
    "wizard.preferences({'java':False})\n",
    "wizard.execute()"
   ]
  },
  {
   "cell_type": "code",
   "execution_count": 8,
   "metadata": {},
   "outputs": [
    {
     "name": "stdout",
     "output_type": "stream",
     "text": [
      "Receiver Action\n"
     ]
    }
   ],
   "source": [
    "from abc import ABCMeta, abstractmethod\n",
    "class Command(metaclass=ABCMeta):\n",
    "    def __init__(self, recv):\n",
    "        self.recv = recv\n",
    "    def execute(self):\n",
    "        pass\n",
    "\n",
    "class ConcreteCommand(Command):\n",
    "    def __init__(self, recv):\n",
    "        super().__init__(recv)\n",
    "    def execute(self):\n",
    "        self.recv.action()\n",
    "\n",
    "class Receiver:\n",
    "    def action(self):\n",
    "        print(\"Receiver Action\")\n",
    "\n",
    "class Invoker:\n",
    "    def command(self, cmd):\n",
    "        self.cmd = cmd\n",
    "        \n",
    "    def execute(self):\n",
    "        self.cmd.execute()\n",
    "\n",
    "recv = Receiver()\n",
    "cmd = ConcreteCommand(recv)\n",
    "invoker = Invoker()\n",
    "invoker.command(cmd)\n",
    "invoker.execute()\n",
    "        \n",
    "            "
   ]
  },
  {
   "cell_type": "code",
   "execution_count": 2,
   "metadata": {},
   "outputs": [
    {
     "name": "stdout",
     "output_type": "stream",
     "text": [
      "You will buy stocks\n",
      "You will sell stocks\n"
     ]
    }
   ],
   "source": [
    "from abc import ABCMeta, abstractmethod\n",
    "class Order(metaclass=ABCMeta):    \n",
    "    @abstractmethod\n",
    "    def execute(self):\n",
    "        pass\n",
    "\n",
    "class BuyStockOrder(Order):\n",
    "    def __init__(self, stock):\n",
    "        self.stock = stock\n",
    "    def execute(self):\n",
    "        self.stock.buy()\n",
    "\n",
    "class SellStockOrder(Order):\n",
    "    def __init__(self, stock):\n",
    "        self.stock = stock\n",
    "    def execute(self):\n",
    "        self.stock.sell()\n",
    "\n",
    "class StockTrade:\n",
    "    def buy(self):\n",
    "        print(\"You will buy stocks\")\n",
    "    def sell(self):\n",
    "        print(\"You will sell stocks\")\n",
    "        \n",
    "class Agent:\n",
    "    def __init__(self):\n",
    "        self.__orderQueue = []\n",
    "    def PlaceOrder(self, order):\n",
    "        self.__orderQueue.append(order)\n",
    "        order.execute()\n",
    "\n",
    "stock = StockTrade()\n",
    "buyStock = BuyStockOrder(stock)\n",
    "sellStock = SellStockOrder(stock)\n",
    "agent = Agent()\n",
    "agent.PlaceOrder(buyStock)\n",
    "agent.PlaceOrder(sellStock)"
   ]
  },
  {
   "cell_type": "code",
   "execution_count": null,
   "metadata": {},
   "outputs": [],
   "source": []
  }
 ],
 "metadata": {
  "kernelspec": {
   "display_name": "Python 3",
   "language": "python",
   "name": "python3"
  },
  "language_info": {
   "codemirror_mode": {
    "name": "ipython",
    "version": 3
   },
   "file_extension": ".py",
   "mimetype": "text/x-python",
   "name": "python",
   "nbconvert_exporter": "python",
   "pygments_lexer": "ipython3",
   "version": "3.6.8"
  }
 },
 "nbformat": 4,
 "nbformat_minor": 4
}
