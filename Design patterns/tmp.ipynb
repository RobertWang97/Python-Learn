{
 "cells": [
  {
   "cell_type": "code",
   "execution_count": 5,
   "id": "3cb92823",
   "metadata": {},
   "outputs": [],
   "source": [
    "class A:\n",
    "    def print1(self):\n",
    "        print(\"1111111\")"
   ]
  },
  {
   "cell_type": "code",
   "execution_count": 9,
   "id": "a6654c0e",
   "metadata": {},
   "outputs": [],
   "source": [
    "class B(object):\n",
    "    def print2(self, object1):\n",
    "        print(\"22222222\")\n",
    "        eval(object1)().print1()"
   ]
  },
  {
   "cell_type": "code",
   "execution_count": 12,
   "id": "8bf765aa",
   "metadata": {},
   "outputs": [
    {
     "name": "stdout",
     "output_type": "stream",
     "text": [
      "22222222\n",
      "1111111\n"
     ]
    }
   ],
   "source": [
    "b = B()\n",
    "b.print2(\"A\")"
   ]
  },
  {
   "cell_type": "code",
   "execution_count": 7,
   "id": "651fc9d7",
   "metadata": {},
   "outputs": [
    {
     "name": "stdout",
     "output_type": "stream",
     "text": [
      "1111111\n"
     ]
    }
   ],
   "source": [
    "a.print1()"
   ]
  },
  {
   "cell_type": "code",
   "execution_count": 33,
   "id": "c910ab48",
   "metadata": {},
   "outputs": [],
   "source": [
    "class AA(object):\n",
    "    a = 0\n",
    "    def __new__(cls):\n",
    "        print(\"dddd\")\n",
    "#         print(self.a)\n",
    "        return\n",
    "    \n",
    "    def __init__(self):\n",
    "        print(self.a)\n",
    "        self.a = 1\n",
    "        return"
   ]
  },
  {
   "cell_type": "code",
   "execution_count": 34,
   "id": "4abf10c9",
   "metadata": {},
   "outputs": [
    {
     "name": "stdout",
     "output_type": "stream",
     "text": [
      "dddd\n"
     ]
    }
   ],
   "source": [
    "aa = AA()"
   ]
  },
  {
   "cell_type": "code",
   "execution_count": null,
   "id": "3c783c3a",
   "metadata": {},
   "outputs": [],
   "source": [
    "class newStyleClass(object): \n",
    "    # In Python2, we need to specify the object as the base.\n",
    "    # In Python3 it's default.\n",
    "\n",
    "    def __new__(cls):\n",
    "        print(\"__new__ is called\")\n",
    "        return super(newStyleClass, cls).__new__(cls)\n",
    "\n",
    "    def __init__(self):\n",
    "        print(\"__init__ is called\")\n",
    "        print(\"self is: \", self)\n",
    "\n",
    "newStyleClass()"
   ]
  },
  {
   "cell_type": "markdown",
   "id": "769e79d5",
   "metadata": {},
   "source": [
    "总结几个点\n",
    "__init__不能有返回值\n",
    "\n",
    "__new__函数直接上可以返回别的类的实例。如上面例子中的returnExistedObj类的__new__函数返回了一个int值。\n",
    "\n",
    "只有在__new__返回一个新创建属于该类的实例时当前类的__init__才会被调用。如下面例子所示：\n"
   ]
  },
  {
   "cell_type": "code",
   "execution_count": null,
   "id": "9b93ae18",
   "metadata": {},
   "outputs": [],
   "source": []
  }
 ],
 "metadata": {
  "kernelspec": {
   "display_name": "Python 3 (ipykernel)",
   "language": "python",
   "name": "python3"
  },
  "language_info": {
   "codemirror_mode": {
    "name": "ipython",
    "version": 3
   },
   "file_extension": ".py",
   "mimetype": "text/x-python",
   "name": "python",
   "nbconvert_exporter": "python",
   "pygments_lexer": "ipython3",
   "version": "3.9.12"
  }
 },
 "nbformat": 4,
 "nbformat_minor": 5
}
