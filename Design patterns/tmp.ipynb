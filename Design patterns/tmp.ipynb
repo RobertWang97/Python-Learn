{
 "cells": [
  {
   "cell_type": "code",
   "execution_count": 5,
   "id": "bc71cce5",
   "metadata": {},
   "outputs": [],
   "source": [
    "class A:\n",
    "    def print1(self):\n",
    "        print(\"1111111\")"
   ]
  },
  {
   "cell_type": "code",
   "execution_count": 9,
   "id": "7fa56442",
   "metadata": {},
   "outputs": [],
   "source": [
    "class B(object):\n",
    "    def print2(self, object1):\n",
    "        print(\"22222222\")\n",
    "        eval(object1)().print1()"
   ]
  },
  {
   "cell_type": "code",
   "execution_count": 12,
   "id": "36d78c1c",
   "metadata": {},
   "outputs": [
    {
     "name": "stdout",
     "output_type": "stream",
     "text": [
      "22222222\n",
      "1111111\n"
     ]
    }
   ],
   "source": [
    "b = B()\n",
    "b.print2(\"A\")"
   ]
  },
  {
   "cell_type": "code",
   "execution_count": 7,
   "id": "76114036",
   "metadata": {},
   "outputs": [
    {
     "name": "stdout",
     "output_type": "stream",
     "text": [
      "1111111\n"
     ]
    }
   ],
   "source": [
    "a.print1()"
   ]
  },
  {
   "cell_type": "code",
   "execution_count": null,
   "id": "234837c4",
   "metadata": {},
   "outputs": [],
   "source": []
  }
 ],
 "metadata": {
  "kernelspec": {
   "display_name": "Python 3 (ipykernel)",
   "language": "python",
   "name": "python3"
  },
  "language_info": {
   "codemirror_mode": {
    "name": "ipython",
    "version": 3
   },
   "file_extension": ".py",
   "mimetype": "text/x-python",
   "name": "python",
   "nbconvert_exporter": "python",
   "pygments_lexer": "ipython3",
   "version": "3.9.12"
  }
 },
 "nbformat": 4,
 "nbformat_minor": 5
}
