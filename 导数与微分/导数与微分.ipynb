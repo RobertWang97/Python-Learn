{
 "cells": [
  {
   "cell_type": "markdown",
   "metadata": {},
   "source": [
    "# 牛顿迭代法求方程的根：x^4-2x^3-x+2=0\n",
    "# 导函数：4x^3-6x^2-1"
   ]
  },
  {
   "cell_type": "markdown",
   "metadata": {},
   "source": [
    "# 原生算法"
   ]
  },
  {
   "cell_type": "code",
   "execution_count": 5,
   "metadata": {},
   "outputs": [
    {
     "name": "stdout",
     "output_type": "stream",
     "text": [
      "(-0.5000000000514252+0.8660254038378665j) 5\n"
     ]
    }
   ],
   "source": [
    "x0=-1+1j\n",
    "err=1\n",
    "n=0\n",
    "\n",
    "while err > 0.00001:\n",
    "    xn = x0 - (x0**4 -2*x0**3  - x0 +2)/(4*x0**3 - 6*x0**2 -1)   #迭代式\n",
    "    err=abs(xn - x0)\n",
    "    x0 = xn\n",
    "    n = n+1\n",
    "\n",
    "print(x0,n)"
   ]
  },
  {
   "cell_type": "markdown",
   "metadata": {},
   "source": [
    "# 采用sympy方式"
   ]
  },
  {
   "cell_type": "code",
   "execution_count": 6,
   "metadata": {},
   "outputs": [],
   "source": [
    "from sympy import *"
   ]
  },
  {
   "cell_type": "code",
   "execution_count": 7,
   "metadata": {},
   "outputs": [
    {
     "name": "stdout",
     "output_type": "stream",
     "text": [
      "[1, 2, -1/2 - sqrt(3)*I/2, -1/2 + sqrt(3)*I/2]\n"
     ]
    }
   ],
   "source": [
    "x = symbols('x')\n",
    "print(solve(x**4-2*x**3-x+2))"
   ]
  },
  {
   "cell_type": "code",
   "execution_count": null,
   "metadata": {},
   "outputs": [],
   "source": []
  },
  {
   "cell_type": "code",
   "execution_count": null,
   "metadata": {},
   "outputs": [],
   "source": []
  }
 ],
 "metadata": {
  "kernelspec": {
   "display_name": "Python 3",
   "language": "python",
   "name": "python3"
  },
  "language_info": {
   "codemirror_mode": {
    "name": "ipython",
    "version": 3
   },
   "file_extension": ".py",
   "mimetype": "text/x-python",
   "name": "python",
   "nbconvert_exporter": "python",
   "pygments_lexer": "ipython3",
   "version": "3.6.8"
  }
 },
 "nbformat": 4,
 "nbformat_minor": 4
}
