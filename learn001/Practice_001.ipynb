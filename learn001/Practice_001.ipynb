{
 "cells": [
  {
   "cell_type": "code",
   "execution_count": 1,
   "metadata": {},
   "outputs": [],
   "source": [
    "class A(object):\n",
    "    def __init__(self, name):\n",
    "        self.name = name"
   ]
  },
  {
   "cell_type": "code",
   "execution_count": 19,
   "metadata": {},
   "outputs": [],
   "source": [
    "class B(A):\n",
    "    def __init__(self, name, name1):\n",
    "        super(B, self).__init__('aaa')\n",
    "        self.name1 = name1"
   ]
  },
  {
   "cell_type": "code",
   "execution_count": 20,
   "metadata": {},
   "outputs": [],
   "source": [
    "b = B('bbb','bbbb1')"
   ]
  },
  {
   "cell_type": "code",
   "execution_count": 21,
   "metadata": {},
   "outputs": [
    {
     "data": {
      "text/plain": [
       "'aaa'"
      ]
     },
     "execution_count": 21,
     "metadata": {},
     "output_type": "execute_result"
    }
   ],
   "source": [
    "b.name"
   ]
  },
  {
   "cell_type": "code",
   "execution_count": 22,
   "metadata": {},
   "outputs": [
    {
     "data": {
      "text/plain": [
       "'bbbb1'"
      ]
     },
     "execution_count": 22,
     "metadata": {},
     "output_type": "execute_result"
    }
   ],
   "source": [
    "b.name1"
   ]
  },
  {
   "cell_type": "code",
   "execution_count": 78,
   "metadata": {},
   "outputs": [],
   "source": [
    "class A(object):\n",
    "    def __init__(self, a):\n",
    "        print ('init A...')\n",
    "        self.a = a\n",
    "\n",
    "class B(A):\n",
    "    def __init__(self, a):\n",
    "        super(B, self).__init__(a)\n",
    "        print ('init B...')\n",
    "\n",
    "class C(A):\n",
    "    def __init__(self, a):\n",
    "        super(C, self).__init__(a)\n",
    "        print ('init C...')\n",
    "    \n",
    "    def ggg(self):\n",
    "        print('GGGGGGGG')\n",
    "\n",
    "class D(B, C):\n",
    "    def __init__(self, a):\n",
    "        super(D, self).__init__(a)\n",
    "        super(D, self).ggg()\n",
    "        print ('init D...')"
   ]
  },
  {
   "cell_type": "code",
   "execution_count": 79,
   "metadata": {},
   "outputs": [
    {
     "name": "stdout",
     "output_type": "stream",
     "text": [
      "init A...\n",
      "init C...\n",
      "init B...\n",
      "GGGGGGGG\n",
      "init D...\n"
     ]
    }
   ],
   "source": [
    "d = D(3)"
   ]
  },
  {
   "cell_type": "code",
   "execution_count": 86,
   "metadata": {},
   "outputs": [],
   "source": [
    "# 多重继承，经典钻石继承\n",
    "\n",
    "class A:\n",
    "    def ping(self):\n",
    "        print('ping', self)\n",
    "\n",
    "\n",
    "class B(A):\n",
    "    def pong(self):\n",
    "        print('pong1', self)\n",
    "\n",
    "\n",
    "class C(A):\n",
    "    def pong(self):\n",
    "        print('PONG2', self)\n",
    "\n",
    "\n",
    "class D(B,C):\n",
    "    def ping(self):\n",
    "        pass\n",
    "#         super(C, self).ping()  # 按照MRO找到父类的ping方法\n",
    "#         print('post-ping:', self)\n",
    "\n",
    "    def pingpong(self):\n",
    "#         self.ping()  # 执行自己的ping\n",
    "#         super().ping()\n",
    "#         self.pong()\n",
    "        super(D, self).pong()"
   ]
  },
  {
   "cell_type": "code",
   "execution_count": 87,
   "metadata": {},
   "outputs": [],
   "source": [
    "d = D()"
   ]
  },
  {
   "cell_type": "code",
   "execution_count": 88,
   "metadata": {},
   "outputs": [
    {
     "name": "stdout",
     "output_type": "stream",
     "text": [
      "pong1 <__main__.D object at 0x000002B13C959708>\n"
     ]
    }
   ],
   "source": [
    "d.pingpong()"
   ]
  },
  {
   "cell_type": "code",
   "execution_count": 89,
   "metadata": {},
   "outputs": [
    {
     "name": "stdout",
     "output_type": "stream",
     "text": [
      "18\n",
      "Python\n"
     ]
    }
   ],
   "source": [
    "class Person(object):\n",
    "\n",
    "    def __init__(self, name, gender, **kwargs):\n",
    "        self.name = name\n",
    "        self.gender = gender\n",
    "        for k, v in kwargs.items():\n",
    "            setattr(self, k, v)\n",
    "\n",
    "p = Person('Bob', 'Male', age=18, course='Python')\n",
    "print (p.age)\n",
    "print (p.course)"
   ]
  },
  {
   "cell_type": "code",
   "execution_count": 92,
   "metadata": {},
   "outputs": [],
   "source": [
    "class AA:\n",
    "    def __init__(self, name, age, **kwargs):\n",
    "        self.name = name\n",
    "        self.age = age\n",
    "        for k, v in kwargs.items():\n",
    "            setattr(self,k,v)"
   ]
  },
  {
   "cell_type": "code",
   "execution_count": 93,
   "metadata": {},
   "outputs": [],
   "source": [
    "a = AA('ddd',32,adf=2,sdfsd=3232,ddss=23)"
   ]
  },
  {
   "cell_type": "code",
   "execution_count": 95,
   "metadata": {},
   "outputs": [
    {
     "data": {
      "text/plain": [
       "3232"
      ]
     },
     "execution_count": 95,
     "metadata": {},
     "output_type": "execute_result"
    }
   ],
   "source": [
    "a.sdfsd"
   ]
  },
  {
   "cell_type": "code",
   "execution_count": 99,
   "metadata": {},
   "outputs": [],
   "source": [
    "def de(function):\n",
    "    def dee():\n",
    "        print('dee')\n",
    "        function()\n",
    "        print('adf')\n",
    "    return dee"
   ]
  },
  {
   "cell_type": "code",
   "execution_count": 106,
   "metadata": {},
   "outputs": [
    {
     "name": "stdout",
     "output_type": "stream",
     "text": [
      "de\n"
     ]
    }
   ],
   "source": [
    "@de\n",
    "def aaa():\n",
    "    print('aaa')\n",
    "print(aaa.__name__)"
   ]
  },
  {
   "cell_type": "code",
   "execution_count": 101,
   "metadata": {},
   "outputs": [
    {
     "name": "stdout",
     "output_type": "stream",
     "text": [
      "dee\n",
      "aaa\n",
      "adf\n"
     ]
    }
   ],
   "source": [
    "aaa()"
   ]
  },
  {
   "cell_type": "code",
   "execution_count": 109,
   "metadata": {},
   "outputs": [],
   "source": [
    "from functools import wraps\n",
    "def de(function):\n",
    "    @wraps(function)\n",
    "    def dee():\n",
    "        print('dee')\n",
    "        function()\n",
    "        print('adf')\n",
    "    return dee"
   ]
  },
  {
   "cell_type": "code",
   "execution_count": 110,
   "metadata": {},
   "outputs": [
    {
     "name": "stdout",
     "output_type": "stream",
     "text": [
      "dee\n",
      "aaa\n",
      "adf\n",
      "aaa\n"
     ]
    }
   ],
   "source": [
    "@de\n",
    "def aaa():\n",
    "    print('aaa')\n",
    "\n",
    "aaa()\n",
    "print(aaa.__name__)"
   ]
  },
  {
   "cell_type": "code",
   "execution_count": null,
   "metadata": {},
   "outputs": [],
   "source": []
  }
 ],
 "metadata": {
  "kernelspec": {
   "display_name": "Python 3",
   "language": "python",
   "name": "python3"
  },
  "language_info": {
   "codemirror_mode": {
    "name": "ipython",
    "version": 3
   },
   "file_extension": ".py",
   "mimetype": "text/x-python",
   "name": "python",
   "nbconvert_exporter": "python",
   "pygments_lexer": "ipython3",
   "version": "3.7.9"
  }
 },
 "nbformat": 4,
 "nbformat_minor": 4
}
