{
 "cells": [
  {
   "cell_type": "markdown",
   "metadata": {},
   "source": [
    "# y = 1.5 + 0.5*x1 + 0.8*x2 - 0.2*x3"
   ]
  },
  {
   "cell_type": "code",
   "execution_count": 23,
   "metadata": {},
   "outputs": [],
   "source": [
    "from numpy.linalg import inv\n",
    "from numpy import dot\n",
    "import pandas\n",
    "import numpy as np"
   ]
  },
  {
   "cell_type": "code",
   "execution_count": 27,
   "metadata": {},
   "outputs": [
    {
     "name": "stdout",
     "output_type": "stream",
     "text": [
      "[[ 4.  10.  24.   6.7]\n",
      " [10.  14.  26.  12.5]\n",
      " [ 3.  19.  25.  13.2]\n",
      " [10.  14.  20.  13.7]\n",
      " [ 3.  13.  22.   9. ]\n",
      " [ 5.  11.  30.   6.8]\n",
      " [10.  12.  27.  10.7]\n",
      " [ 4.  16.  22.  11.9]\n",
      " [ 6.  17.  28.  12.5]\n",
      " [ 7.  18.  23.  14.8]\n",
      " [ 7.  13.  28.   9.8]\n",
      " [ 8.  14.  28.  11.1]\n",
      " [ 3.  14.  21.  10. ]\n",
      " [10.  14.  27.  12.3]\n",
      " [ 5.  15.  22.  11.6]\n",
      " [10.  15.  28.  12.9]\n",
      " [ 5.  11.  27.   7.4]]\n"
     ]
    }
   ],
   "source": [
    "filedata = pandas.read_csv('./data.csv')\n",
    "Xdata = np.array(filedata)\n",
    "print(Xdata)"
   ]
  },
  {
   "cell_type": "code",
   "execution_count": 28,
   "metadata": {},
   "outputs": [
    {
     "data": {
      "text/plain": [
       "array([[ 1.,  4., 10., 24.],\n",
       "       [ 1., 10., 14., 26.],\n",
       "       [ 1.,  3., 19., 25.],\n",
       "       [ 1., 10., 14., 20.],\n",
       "       [ 1.,  3., 13., 22.],\n",
       "       [ 1.,  5., 11., 30.],\n",
       "       [ 1., 10., 12., 27.],\n",
       "       [ 1.,  4., 16., 22.],\n",
       "       [ 1.,  6., 17., 28.],\n",
       "       [ 1.,  7., 18., 23.],\n",
       "       [ 1.,  7., 13., 28.],\n",
       "       [ 1.,  8., 14., 28.],\n",
       "       [ 1.,  3., 14., 21.],\n",
       "       [ 1., 10., 14., 27.],\n",
       "       [ 1.,  5., 15., 22.],\n",
       "       [ 1., 10., 15., 28.],\n",
       "       [ 1.,  5., 11., 27.]])"
      ]
     },
     "execution_count": 28,
     "metadata": {},
     "output_type": "execute_result"
    }
   ],
   "source": [
    "X1 = Xdata[:,[0,1,2]]\n",
    "y = Xdata[:,3]\n",
    "m,n = X1.shape\n",
    "b = np.ones(m)\n",
    "X = np.c_[b,X1]\n",
    "X"
   ]
  },
  {
   "cell_type": "code",
   "execution_count": 29,
   "metadata": {},
   "outputs": [
    {
     "data": {
      "text/plain": [
       "array([ 1.5,  0.5,  0.8, -0.2])"
      ]
     },
     "execution_count": 29,
     "metadata": {},
     "output_type": "execute_result"
    }
   ],
   "source": [
    "a = dot(dot(inv(dot(X.T,X)),X.T),y)\n",
    "a"
   ]
  },
  {
   "cell_type": "code",
   "execution_count": null,
   "metadata": {},
   "outputs": [],
   "source": []
  }
 ],
 "metadata": {
  "kernelspec": {
   "display_name": "Python 3",
   "language": "python",
   "name": "python3"
  },
  "language_info": {
   "codemirror_mode": {
    "name": "ipython",
    "version": 3
   },
   "file_extension": ".py",
   "mimetype": "text/x-python",
   "name": "python",
   "nbconvert_exporter": "python",
   "pygments_lexer": "ipython3",
   "version": "3.6.8"
  }
 },
 "nbformat": 4,
 "nbformat_minor": 4
}
