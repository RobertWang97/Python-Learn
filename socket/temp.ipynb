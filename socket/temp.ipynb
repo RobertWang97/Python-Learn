{
 "cells": [
  {
   "cell_type": "code",
   "execution_count": 1,
   "id": "ce6e2ae8",
   "metadata": {},
   "outputs": [],
   "source": [
    "def make_handler():\n",
    "    sequence = 0\n",
    "    while True:\n",
    "        result = yield\n",
    "        sequence += 1\n",
    "        print(\"[{}] Got:{}\".format(sequence, result))"
   ]
  },
  {
   "cell_type": "code",
   "execution_count": 2,
   "id": "3d700f18",
   "metadata": {},
   "outputs": [
    {
     "data": {
      "text/plain": [
       "<generator object make_handler at 0x00000253D3D3B350>"
      ]
     },
     "execution_count": 2,
     "metadata": {},
     "output_type": "execute_result"
    }
   ],
   "source": [
    "make_handler()"
   ]
  },
  {
   "cell_type": "code",
   "execution_count": 4,
   "id": "e054d803",
   "metadata": {},
   "outputs": [],
   "source": [
    "next(make_handler())"
   ]
  },
  {
   "cell_type": "code",
   "execution_count": 15,
   "id": "55b6a71e",
   "metadata": {},
   "outputs": [
    {
     "name": "stdout",
     "output_type": "stream",
     "text": [
      "[1] Got:5\n"
     ]
    }
   ],
   "source": [
    "def apply_async(func, args, *, callback):\n",
    "    result = func(*args)\n",
    "    callback(result)\n",
    " \n",
    "def add(x, y):\n",
    "    return x + y\n",
    " \n",
    "def make_handler():\n",
    "    sequence = 0\n",
    "    while True:\n",
    "        result = yield\n",
    "        sequence += 1\n",
    "        print(\"[{}] Got:{}\".format(sequence, result))\n",
    " \n",
    "handle = make_handler()\n",
    "next(handle)\n",
    " \n",
    "apply_async(add, (2,3), callback=handle.send)"
   ]
  },
  {
   "cell_type": "code",
   "execution_count": 6,
   "id": "d62fdce4",
   "metadata": {},
   "outputs": [
    {
     "name": "stdout",
     "output_type": "stream",
     "text": [
      "1 2 3 4\n"
     ]
    }
   ],
   "source": [
    "args = (1,2,3,4)\n",
    "print(*args)"
   ]
  },
  {
   "cell_type": "code",
   "execution_count": 7,
   "id": "5783165c",
   "metadata": {},
   "outputs": [
    {
     "ename": "TypeError",
     "evalue": "print() argument after ** must be a mapping, not tuple",
     "output_type": "error",
     "traceback": [
      "\u001b[1;31m---------------------------------------------------------------------------\u001b[0m",
      "\u001b[1;31mTypeError\u001b[0m                                 Traceback (most recent call last)",
      "Input \u001b[1;32mIn [7]\u001b[0m, in \u001b[0;36m<cell line: 1>\u001b[1;34m()\u001b[0m\n\u001b[1;32m----> 1\u001b[0m \u001b[38;5;28mprint\u001b[39m(\u001b[38;5;241m*\u001b[39m\u001b[38;5;241m*\u001b[39margs)\n",
      "\u001b[1;31mTypeError\u001b[0m: print() argument after ** must be a mapping, not tuple"
     ]
    }
   ],
   "source": [
    "print(**args)"
   ]
  },
  {
   "cell_type": "code",
   "execution_count": 12,
   "id": "0df84269",
   "metadata": {},
   "outputs": [
    {
     "ename": "TypeError",
     "evalue": "'name' is an invalid keyword argument for print()",
     "output_type": "error",
     "traceback": [
      "\u001b[1;31m---------------------------------------------------------------------------\u001b[0m",
      "\u001b[1;31mTypeError\u001b[0m                                 Traceback (most recent call last)",
      "Input \u001b[1;32mIn [12]\u001b[0m, in \u001b[0;36m<cell line: 2>\u001b[1;34m()\u001b[0m\n\u001b[0;32m      1\u001b[0m kwargs \u001b[38;5;241m=\u001b[39m \u001b[38;5;28mdict\u001b[39m(name\u001b[38;5;241m=\u001b[39m\u001b[38;5;124m\"\u001b[39m\u001b[38;5;124m333\u001b[39m\u001b[38;5;124m\"\u001b[39m)\n\u001b[1;32m----> 2\u001b[0m \u001b[38;5;28mprint\u001b[39m(\u001b[38;5;241m*\u001b[39m\u001b[38;5;241m*\u001b[39mkwargs)\n",
      "\u001b[1;31mTypeError\u001b[0m: 'name' is an invalid keyword argument for print()"
     ]
    }
   ],
   "source": [
    "kwargs = dict(name=\"333\")\n",
    "print(**kwargs)"
   ]
  },
  {
   "cell_type": "code",
   "execution_count": 13,
   "id": "7d59cc1f",
   "metadata": {},
   "outputs": [
    {
     "name": "stdout",
     "output_type": "stream",
     "text": [
      "s\n",
      "('t', 'r', 'i', 'n', 'g')\n",
      "None\n"
     ]
    }
   ],
   "source": [
    "a= 'string'\n",
    "\n",
    "def one(a,*b):\n",
    "    \"\"\"结果输出 a=s  \n",
    "    b=('t', 'r', 'i', 'n', 'g') \"\"\"\n",
    "    print(a)\n",
    "    print(b)\n",
    "print(one(*a))"
   ]
  },
  {
   "cell_type": "code",
   "execution_count": null,
   "id": "b56bcde4",
   "metadata": {},
   "outputs": [],
   "source": []
  }
 ],
 "metadata": {
  "kernelspec": {
   "display_name": "Python 3 (ipykernel)",
   "language": "python",
   "name": "python3"
  },
  "language_info": {
   "codemirror_mode": {
    "name": "ipython",
    "version": 3
   },
   "file_extension": ".py",
   "mimetype": "text/x-python",
   "name": "python",
   "nbconvert_exporter": "python",
   "pygments_lexer": "ipython3",
   "version": "3.9.12"
  }
 },
 "nbformat": 4,
 "nbformat_minor": 5
}
