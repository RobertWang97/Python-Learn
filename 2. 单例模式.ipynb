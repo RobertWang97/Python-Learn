{
 "cells": [
  {
   "cell_type": "markdown",
   "metadata": {},
   "source": [
    "# 单例模式"
   ]
  },
  {
   "cell_type": "markdown",
   "metadata": {},
   "source": [
    "__new__是在实例创建之前被调用的，因为它的任务就是创建实例然后返回该实例对象，是个静态方法。\n",
    "__init__是当实例对象创建完成后被调用的，然后设置对象属性的一些初始值，通常用在初始化一个类实例的时候。是一个实例方法。"
   ]
  },
  {
   "cell_type": "code",
   "execution_count": 4,
   "metadata": {},
   "outputs": [
    {
     "name": "stdout",
     "output_type": "stream",
     "text": [
      "Object created <__main__.Singleton object at 0x0000023EF9316BE0>\n",
      "Object created <__main__.Singleton object at 0x0000023EF9316BE0>\n"
     ]
    }
   ],
   "source": [
    "class Singleton(object):\n",
    "    def __new__(cls):\n",
    "        if not hasattr(cls,'instance'):\n",
    "            cls.instance = super().__new__(cls)\n",
    "        return cls.instance\n",
    "    \n",
    "s = Singleton()\n",
    "print(\"Object created\", s)\n",
    "\n",
    "s1 = Singleton()\n",
    "print(\"Object created\", s1)"
   ]
  },
  {
   "cell_type": "markdown",
   "metadata": {},
   "source": [
    "# 懒汉式实例化"
   ]
  },
  {
   "cell_type": "markdown",
   "metadata": {},
   "source": [
    "使用@staticmethod或@classmethod，就可以不需要实例化，直接类名.方法名()来调用。\n",
    "既然@staticmethod和@classmethod都可以直接类名.方法名()来调用，那他们有什么区别呢\n",
    "从它们的使用上来看,\n",
    "@staticmethod不需要表示自身对象的self和自身类的cls参数，就跟使用函数一样。\n",
    "@classmethod也不需要self参数，但第一个参数需要是表示自身类的cls参数。\n",
    "如果在@staticmethod中要调用到这个类的一些属性方法，只能直接类名.属性名或类名.方法名。\n",
    "而@classmethod因为持有cls参数，可以来调用类的属性，类的方法，实例化对象等，避免硬编码。"
   ]
  },
  {
   "cell_type": "code",
   "execution_count": 13,
   "metadata": {},
   "outputs": [
    {
     "name": "stdout",
     "output_type": "stream",
     "text": [
      "__init__ method called..\n",
      "Object created s  <__main__.Singleton object at 0x0000023EF9474908>\n",
      "__init__ method called..\n",
      "Object created s2  <__main__.Singleton object at 0x0000023EF95E3D68>\n",
      "__init__ method called..\n",
      "Object created 1 <__main__.Singleton object at 0x0000023EF95D50B8>\n",
      "Object created 2 <__main__.Singleton object at 0x0000023EF95D50B8>\n",
      "Instance already created: <__main__.Singleton object at 0x0000023EF95D50B8>\n",
      "Object created s1  <__main__.Singleton object at 0x0000023EF95EA0B8>\n"
     ]
    }
   ],
   "source": [
    "class Singleton():\n",
    "    _instance = None\n",
    "    def __init__(self):\n",
    "        if not self._instance:\n",
    "            print(\"__init__ method called..\")\n",
    "        else:\n",
    "            print(\"Instance already created:\", self.getInstance())\n",
    "            \n",
    "    @classmethod\n",
    "    def getInstance(cls):\n",
    "        if not cls._instance:\n",
    "            cls._instance = Singleton()\n",
    "        return cls._instance\n",
    "\n",
    "s = Singleton()\n",
    "print(\"Object created s \", s)\n",
    "s2 = Singleton()\n",
    "print(\"Object created s2 \" , s2)\n",
    "print(\"Object created 1\", Singleton.getInstance())\n",
    "print(\"Object created 2\", Singleton.getInstance())\n",
    "s1 = Singleton()\n",
    "print(\"Object created s1 \", s1)\n"
   ]
  },
  {
   "cell_type": "markdown",
   "metadata": {},
   "source": [
    "# Monostate 单例模式"
   ]
  },
  {
   "cell_type": "markdown",
   "metadata": {},
   "source": [
    "上一篇文章中，我们讨论的是GOF编写的设计模式图书中的相关内容。GoF的单例设计模式是指，一个类有且只有一个对象。\n",
    "然而，根据Alex Martelli的说法，通常程序员需要的是让实例共享相同的状态。他建议开发人员更应关注状态和行为，而不是同一性。\n",
    "由于该概率基于所有对象共享相同的状态，因此被称为Monostate（单态）模式。\n",
    "\n",
    "如下程序，我们将变量__shared_state赋给__dict__（python用__dict__存储一个类所有对象的状态），\n",
    "这样，这个类创建的所有实例都通过__shared_state共享状态。"
   ]
  },
  {
   "cell_type": "code",
   "execution_count": 6,
   "metadata": {},
   "outputs": [
    {
     "name": "stdout",
     "output_type": "stream",
     "text": [
      "<__main__.Borg object at 0x0000022D86A96E48>\n",
      "<__main__.Borg object at 0x0000022D86A965F8>\n",
      "{'1': '2', 'x': 4}\n",
      "{'1': '2', 'x': 4}\n"
     ]
    }
   ],
   "source": [
    "class Borg:\n",
    "    __shared_state={\"1\":\"2\"}\n",
    "    def __init__(self):\n",
    "        self.x = 1\n",
    "        self.__dict__ = self.__shared_state\n",
    "        pass\n",
    "\n",
    "b = Borg()\n",
    "b1 = Borg()\n",
    "b.x = 4\n",
    "\n",
    "print(b)\n",
    "print(b1)\n",
    "print(b.__dict__)\n",
    "print(b1.__dict__)\n"
   ]
  },
  {
   "cell_type": "code",
   "execution_count": 8,
   "metadata": {},
   "outputs": [
    {
     "name": "stdout",
     "output_type": "stream",
     "text": [
      "<__main__.Borg object at 0x0000022D88460DA0>\n",
      "<__main__.Borg object at 0x0000022D88460EB8>\n",
      "{'x': 4}\n",
      "{'x': 4}\n"
     ]
    }
   ],
   "source": [
    "class Borg(object):\n",
    "    _shared_state = {}\n",
    "    def __new__(cls):\n",
    "        obj = super().__new__(cls)\n",
    "        obj.__dict__ = cls._shared_state\n",
    "        return obj\n",
    "b2 = Borg()\n",
    "b3 = Borg()\n",
    "b2.x = 4\n",
    "print(b2)\n",
    "print(b3)\n",
    "print(b2.__dict__)\n",
    "print(b3.__dict__)"
   ]
  },
  {
   "cell_type": "markdown",
   "metadata": {},
   "source": [
    "# 单例和元类"
   ]
  },
  {
   "cell_type": "code",
   "execution_count": 16,
   "metadata": {},
   "outputs": [
    {
     "ename": "TypeError",
     "evalue": "__init__() takes 3 positional arguments but 4 were given",
     "output_type": "error",
     "traceback": [
      "\u001b[1;31m---------------------------------------------------------------------------\u001b[0m",
      "\u001b[1;31mTypeError\u001b[0m                                 Traceback (most recent call last)",
      "\u001b[1;32m<ipython-input-16-bd371d252f97>\u001b[0m in \u001b[0;36m<module>\u001b[1;34m\u001b[0m\n\u001b[0;32m      8\u001b[0m         \u001b[0mself\u001b[0m\u001b[1;33m.\u001b[0m\u001b[0my\u001b[0m \u001b[1;33m=\u001b[0m \u001b[0my\u001b[0m\u001b[1;33m\u001b[0m\u001b[1;33m\u001b[0m\u001b[0m\n\u001b[0;32m      9\u001b[0m \u001b[1;33m\u001b[0m\u001b[0m\n\u001b[1;32m---> 10\u001b[1;33m \u001b[0mi\u001b[0m \u001b[1;33m=\u001b[0m \u001b[0mint\u001b[0m\u001b[1;33m(\u001b[0m\u001b[1;36m4\u001b[0m\u001b[1;33m,\u001b[0m\u001b[1;36m5\u001b[0m\u001b[1;33m)\u001b[0m\u001b[1;33m\u001b[0m\u001b[1;33m\u001b[0m\u001b[0m\n\u001b[0m\u001b[0;32m     11\u001b[0m \u001b[0mprint\u001b[0m\u001b[1;33m(\u001b[0m\u001b[0mi\u001b[0m\u001b[1;33m)\u001b[0m\u001b[1;33m\u001b[0m\u001b[1;33m\u001b[0m\u001b[0m\n",
      "\u001b[1;32m<ipython-input-16-bd371d252f97>\u001b[0m in \u001b[0;36m__call__\u001b[1;34m(cls, *args, **kwds)\u001b[0m\n\u001b[0;32m      1\u001b[0m \u001b[1;32mclass\u001b[0m \u001b[0mMyInt\u001b[0m\u001b[1;33m(\u001b[0m\u001b[0mtype\u001b[0m\u001b[1;33m)\u001b[0m\u001b[1;33m:\u001b[0m\u001b[1;33m\u001b[0m\u001b[1;33m\u001b[0m\u001b[0m\n\u001b[0;32m      2\u001b[0m     \u001b[1;32mdef\u001b[0m \u001b[0m__call__\u001b[0m\u001b[1;33m(\u001b[0m\u001b[0mcls\u001b[0m\u001b[1;33m,\u001b[0m \u001b[1;33m*\u001b[0m\u001b[0margs\u001b[0m\u001b[1;33m,\u001b[0m \u001b[1;33m**\u001b[0m\u001b[0mkwds\u001b[0m\u001b[1;33m)\u001b[0m\u001b[1;33m:\u001b[0m\u001b[1;33m\u001b[0m\u001b[1;33m\u001b[0m\u001b[0m\n\u001b[1;32m----> 3\u001b[1;33m         \u001b[1;32mreturn\u001b[0m \u001b[1;33m(\u001b[0m\u001b[0msuper\u001b[0m\u001b[1;33m(\u001b[0m\u001b[1;33m)\u001b[0m\u001b[1;33m.\u001b[0m\u001b[0m__call__\u001b[0m\u001b[1;33m(\u001b[0m\u001b[0mcls\u001b[0m\u001b[1;33m,\u001b[0m \u001b[1;33m*\u001b[0m\u001b[0margs\u001b[0m\u001b[1;33m,\u001b[0m \u001b[1;33m**\u001b[0m\u001b[0mkwds\u001b[0m\u001b[1;33m)\u001b[0m\u001b[1;33m)\u001b[0m\u001b[1;33m\u001b[0m\u001b[1;33m\u001b[0m\u001b[0m\n\u001b[0m\u001b[0;32m      4\u001b[0m \u001b[1;33m\u001b[0m\u001b[0m\n\u001b[0;32m      5\u001b[0m \u001b[1;32mclass\u001b[0m \u001b[0mint\u001b[0m\u001b[1;33m(\u001b[0m\u001b[0mmetaclass\u001b[0m\u001b[1;33m=\u001b[0m\u001b[0mMyInt\u001b[0m\u001b[1;33m)\u001b[0m\u001b[1;33m:\u001b[0m\u001b[1;33m\u001b[0m\u001b[1;33m\u001b[0m\u001b[0m\n",
      "\u001b[1;31mTypeError\u001b[0m: __init__() takes 3 positional arguments but 4 were given"
     ]
    }
   ],
   "source": [
    "class MyInt(type):\n",
    "    def __call__(cls, *args, **kwds):\n",
    "        return (type.__call__(cls, *args, **kwds))\n",
    "\n",
    "class int(metaclass=MyInt):\n",
    "    def __init__(self, x, y):\n",
    "        self.x = x\n",
    "        self.y = y\n",
    "\n",
    "i = int(4,5)\n",
    "print(i)"
   ]
  },
  {
   "cell_type": "code",
   "execution_count": null,
   "metadata": {},
   "outputs": [],
   "source": []
  },
  {
   "cell_type": "code",
   "execution_count": null,
   "metadata": {},
   "outputs": [],
   "source": []
  }
 ],
 "metadata": {
  "kernelspec": {
   "display_name": "Python 3",
   "language": "python",
   "name": "python3"
  },
  "language_info": {
   "codemirror_mode": {
    "name": "ipython",
    "version": 3
   },
   "file_extension": ".py",
   "mimetype": "text/x-python",
   "name": "python",
   "nbconvert_exporter": "python",
   "pygments_lexer": "ipython3",
   "version": "3.7.9"
  }
 },
 "nbformat": 4,
 "nbformat_minor": 4
}
