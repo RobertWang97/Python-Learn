{
 "cells": [
  {
   "cell_type": "markdown",
   "metadata": {},
   "source": [
    "# https://zhuanlan.zhihu.com/p/86826683"
   ]
  },
  {
   "cell_type": "markdown",
   "metadata": {},
   "source": [
    "# 1. 什么是序列化和非序列化？"
   ]
  },
  {
   "cell_type": "code",
   "execution_count": 17,
   "metadata": {},
   "outputs": [
    {
     "name": "stdout",
     "output_type": "stream",
     "text": [
      "aff\n",
      "[1, 2, 3, 4, 5, 8, 9, 0, 66, 44]\n"
     ]
    }
   ],
   "source": [
    "import pickle\n",
    "a = [1,2,3,4,5,8,9,0,66,44]\n",
    "class A:\n",
    "    def __init__(self, name, age):\n",
    "        self.name = name\n",
    "        self.age = age\n",
    "\n",
    "b = A('aff', 33)\n",
    "\n",
    "f=open('c:\\self-learning\\p.txt','wb')\n",
    "pickle.dump(b, f, 0)\n",
    "pickle.dump(a, f, 0)\n",
    "f.close()\n",
    "\n",
    "f=open('c:\\self-learning\\p.txt','rb')  \n",
    "bb=pickle.load(f)  \n",
    "cc = pickle.load(f)  \n",
    "f.close()  \n",
    "print(bb.name)\n",
    "print(cc)"
   ]
  },
  {
   "cell_type": "markdown",
   "metadata": {},
   "source": [
    "# 2. 如何在Python中内存管理？\n",
    "Python内存由Python私有堆空间管理。所有Python对象和数据结构都位于私有堆中。程序员无权访问此私有堆，解释器负责处理此私有堆。<br />\n",
    "Python对象的Python堆空间分配由Python内存管理器完成。核心API提供了一些程序员编写代码的工具。<br />\n",
    "Python还有一个内置的垃圾收集器，它可以回收所有未使用的内存并释放内存并使其可用于堆空间。<br />"
   ]
  },
  {
   "cell_type": "markdown",
   "metadata": {},
   "source": [
    "    (1)引用计数：\n",
    "        当对象被创建时就创建了一个引用计数，当对象不再需要时，这个对象的引用计数为0时，它被垃圾回收。\n",
    "    (2)垃圾回收：\n",
    "         1、当内存中有不再使用的部分时，垃圾收集器就会把他们清理掉。它会去检查那些引用计数为0的对象，\n",
    "         然后清除其在内存的空间。当然除了引用计数为0的会被清除，还有一种情况也会被垃圾收集器清掉：当两\n",
    "         个对象相互引用时，他们本身其他的引用已经为0了。\n",
    "         2、垃圾回收机制还有一个循环垃圾回收器, 确保释放循环引用对象(a引用b, b引用a, 导致其引用计数\n",
    "         永远不为0。\n",
    "    (3)内存池机制\n",
    "        为了加速Python的执行效率，Python引入了一个内存池机制，用于管理对小块内存的申请和释放。\n",
    "        在Python中，许多时候申请的内存都是小块的内存，这些小块内存在申请后，很快又会被释放，由于这些内存的申请\n",
    "        并不是为了创建对象，所以并没有对象一级的内存池机制。这就意味着Python在运行期间会大量地执行malloc和new的\n",
    "        操作，频繁地在用户态和核心态之间进行切换，这将严重影响Python的执行效率。\n",
    "        \n",
    "        https://blog.csdn.net/jiangjiang_jian/article/details/79140742"
   ]
  },
  {
   "cell_type": "code",
   "execution_count": 33,
   "metadata": {},
   "outputs": [
    {
     "name": "stdout",
     "output_type": "stream",
     "text": [
      "3001432499848\n",
      "Amy\n",
      "3001432499848\n",
      "Amy\n",
      "3001432499848\n",
      "Amy\n"
     ]
    }
   ],
   "source": [
    "class B:\n",
    "    def __init__(self, name, age):\n",
    "        self.name = name\n",
    "        self.age = age\n",
    "\n",
    "class BB:\n",
    "    BB\n",
    "    def __init__(self, B):\n",
    "        self.B = B\n",
    "    \n",
    "            \n",
    "b = B('Amy',33)\n",
    "print(id(b))\n",
    "bb = BB(b)\n",
    "print(bb.B.name)\n",
    "bb.BB = b\n",
    "print(id(bb.BB))\n",
    "print(bb.BB.name)\n",
    "del b\n",
    "print(id(bb.BB))\n",
    "print(bb.BB.name)\n",
    "\n",
    "\n",
    "# import gc\n",
    "\n",
    "# gc.collect()"
   ]
  },
  {
   "cell_type": "code",
   "execution_count": 35,
   "metadata": {},
   "outputs": [
    {
     "name": "stdout",
     "output_type": "stream",
     "text": [
      "3001416494824\n",
      "3001416494824\n"
     ]
    }
   ],
   "source": [
    "a = (2,4,5,6,3)\n",
    "print(id(a))\n",
    "b = a\n",
    "print(id(b))"
   ]
  },
  {
   "cell_type": "code",
   "execution_count": 36,
   "metadata": {},
   "outputs": [
    {
     "name": "stdout",
     "output_type": "stream",
     "text": [
      "3001416494824\n",
      "140729742556288\n"
     ]
    }
   ],
   "source": [
    "a =3\n",
    "print(id(b))\n",
    "print(id(a))"
   ]
  },
  {
   "cell_type": "code",
   "execution_count": 37,
   "metadata": {},
   "outputs": [
    {
     "name": "stdout",
     "output_type": "stream",
     "text": [
      "3001425934120\n",
      "3001425934120\n"
     ]
    }
   ],
   "source": [
    "aa = {'a': 1, 'b':2}\n",
    "print(id(aa))\n",
    "bb = aa\n",
    "print(id(bb))"
   ]
  },
  {
   "cell_type": "code",
   "execution_count": 38,
   "metadata": {},
   "outputs": [],
   "source": [
    "aa['a'] = 3"
   ]
  },
  {
   "cell_type": "code",
   "execution_count": 39,
   "metadata": {},
   "outputs": [
    {
     "name": "stdout",
     "output_type": "stream",
     "text": [
      "3001425934120\n"
     ]
    }
   ],
   "source": [
    "print(id(aa))"
   ]
  },
  {
   "cell_type": "code",
   "execution_count": 40,
   "metadata": {},
   "outputs": [
    {
     "name": "stdout",
     "output_type": "stream",
     "text": [
      "3001425934120\n"
     ]
    }
   ],
   "source": [
    "print(id(bb))"
   ]
  },
  {
   "cell_type": "code",
   "execution_count": 41,
   "metadata": {},
   "outputs": [
    {
     "name": "stdout",
     "output_type": "stream",
     "text": [
      "{'a': 3, 'b': 2}\n"
     ]
    }
   ],
   "source": [
    "print(bb)"
   ]
  },
  {
   "cell_type": "code",
   "execution_count": null,
   "metadata": {},
   "outputs": [],
   "source": []
  }
 ],
 "metadata": {
  "kernelspec": {
   "display_name": "Python 3",
   "language": "python",
   "name": "python3"
  },
  "language_info": {
   "codemirror_mode": {
    "name": "ipython",
    "version": 3
   },
   "file_extension": ".py",
   "mimetype": "text/x-python",
   "name": "python",
   "nbconvert_exporter": "python",
   "pygments_lexer": "ipython3",
   "version": "3.7.9"
  }
 },
 "nbformat": 4,
 "nbformat_minor": 4
}
