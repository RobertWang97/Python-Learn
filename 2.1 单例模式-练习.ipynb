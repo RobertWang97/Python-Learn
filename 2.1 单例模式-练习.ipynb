{
 "cells": [
  {
   "cell_type": "code",
   "execution_count": null,
   "metadata": {},
   "outputs": [],
   "source": [
    "class Singleton(object):\n",
    "    def __new__(cls):\n",
    "        if not hasattr(cls, 'instance'):\n",
    "            cls.instance = super().__new__(cls)\n",
    "        return cls.instance\n",
    "\n",
    "b = Singleton()\n",
    "print(b)\n",
    "c = Singleton()\n",
    "print(c)"
   ]
  },
  {
   "cell_type": "code",
   "execution_count": null,
   "metadata": {},
   "outputs": [],
   "source": [
    "class Singleton2():\n",
    "    _instance = None\n",
    "    def __init__(self):\n",
    "        if self._instance:\n",
    "            print (\"created\")\n",
    "        else:\n",
    "            print(\"not created\")\n",
    "    \n",
    "    @classmathod\n",
    "    def getInstance(cls):\n",
    "        if not cls._instance:\n",
    "            cls._instance = Singleton2()\n",
    "    return cls._instance\n",
    "\n",
    "a = Singleton2.getInstance()\n",
    "print(a)\n",
    "b = Singleton2.getInstance()\n",
    "print(b)"
   ]
  },
  {
   "cell_type": "code",
   "execution_count": null,
   "metadata": {},
   "outputs": [],
   "source": [
    "class Singleton(object):\n",
    "    def __new__(cls):\n",
    "        if not hasattr(cls, 'instance'):\n",
    "            cls.instance = super().__new__(cls)\n",
    "        return cls.instance\n",
    "\n",
    "a = Singleton()\n",
    "b = Singleton()\n",
    "print(a,b)"
   ]
  },
  {
   "cell_type": "code",
   "execution_count": null,
   "metadata": {},
   "outputs": [],
   "source": [
    "class Singleton2():\n",
    "    __instance = None\n",
    "    def __init__(self):\n",
    "        if self.__instance:\n",
    "            print(\"not created\")\n",
    "        else:\n",
    "            print(\"created\")\n",
    "    \n",
    "    @classmethod\n",
    "    def getInstance(cls):\n",
    "        if not cls.__instance:\n",
    "            cls.__instance = Singleton2()\n",
    "        return cls.__instance\n",
    "    \n",
    "a = Singleton2.getInstance()\n",
    "b = Singleton2.getInstance()\n",
    "print(a,b)    \n",
    "    "
   ]
  },
  {
   "cell_type": "code",
   "execution_count": 10,
   "metadata": {},
   "outputs": [
    {
     "name": "stdout",
     "output_type": "stream",
     "text": [
      "{'x': 4}\n",
      "4\n"
     ]
    }
   ],
   "source": [
    "class Bg:\n",
    "    __shared_state = {}\n",
    "    def __init__(self):\n",
    "        self.x = 1\n",
    "        self.__dict__ = __self.shared_state\n",
    "        pass\n",
    "\n",
    "c = Bg()\n",
    "c1 = Bg()\n",
    "c.x = 4\n",
    "print(c.shared_state)\n",
    "print(c1.x)\n",
    "# print(c1.__shared_state)"
   ]
  },
  {
   "cell_type": "code",
   "execution_count": 13,
   "metadata": {},
   "outputs": [],
   "source": [
    "class MyInt(type):\n",
    "    def __call__(cls, *args, **kwargs):\n",
    "        return type.__call__(cls, *args, **kwargs)\n",
    "\n",
    "class int(metaclass=MyInt):\n",
    "    def __init__(self,x , y):\n",
    "        self.x = x\n",
    "        self.y = y\n",
    "i = int(4,7)\n",
    "        "
   ]
  },
  {
   "cell_type": "code",
   "execution_count": 16,
   "metadata": {},
   "outputs": [
    {
     "name": "stdout",
     "output_type": "stream",
     "text": [
      "<__main__.Logger object at 0x00000208A32B1940> <__main__.Logger object at 0x00000208A32B1940>\n"
     ]
    }
   ],
   "source": [
    "class MetaSingleton(type):\n",
    "    __instances = {}\n",
    "    def __call__(cls, *args, **kwargs):\n",
    "        if cls not in cls.__instances:\n",
    "            cls.__instances[cls] = super().__call__( *args, **kwargs)\n",
    "        return cls.__instances[cls]\n",
    "    \n",
    "class Logger(metaclass=MetaSingleton):\n",
    "    pass\n",
    "\n",
    "l1 = Logger()\n",
    "l2 = Logger()\n",
    "print(l1, l2)"
   ]
  },
  {
   "cell_type": "code",
   "execution_count": 4,
   "metadata": {},
   "outputs": [
    {
     "name": "stdout",
     "output_type": "stream",
     "text": [
      "not created\n",
      "<__main__.Borg object at 0x0000014BEB63B278> <__main__.Borg object at 0x0000014BEB63B278>\n"
     ]
    }
   ],
   "source": [
    "class Borg:\n",
    "    __instance = None\n",
    "    def __init__(self):\n",
    "        if not self.__instance:\n",
    "            print(\"not created\")\n",
    "        else:\n",
    "            print(\"created\")\n",
    "    \n",
    "    @classmethod\n",
    "    def getInstance(cls):\n",
    "        if not cls.__instance:\n",
    "            cls.__instance = Borg()\n",
    "        return cls.__instance\n",
    "    \n",
    "a = Borg.getInstance()\n",
    "b = Borg.getInstance()\n",
    "\n",
    "print(a,b)\n",
    "    "
   ]
  },
  {
   "cell_type": "code",
   "execution_count": null,
   "metadata": {},
   "outputs": [],
   "source": [
    "class MyInt(type):\n",
    "    def __call__(cls, *args, **kwargs):\n",
    "        return type.__call__(cls, *args, **kwargs)\n",
    "\n",
    "class Int(metaclass=MyInt):\n",
    "    def __init__(self, x, y):\n",
    "        self.x = x\n",
    "        self.y = y\n",
    "a = Int(3,5)"
   ]
  }
 ],
 "metadata": {
  "kernelspec": {
   "display_name": "Python 3",
   "language": "python",
   "name": "python3"
  },
  "language_info": {
   "codemirror_mode": {
    "name": "ipython",
    "version": 3
   },
   "file_extension": ".py",
   "mimetype": "text/x-python",
   "name": "python",
   "nbconvert_exporter": "python",
   "pygments_lexer": "ipython3",
   "version": "3.6.8"
  }
 },
 "nbformat": 4,
 "nbformat_minor": 4
}
